{
 "cells": [
  {
   "cell_type": "markdown",
   "metadata": {
    "collapsed": true
   },
   "source": [
    "# Image Classification\n",
    "In this project, you'll classify images from the [CIFAR-10 dataset](https://www.cs.toronto.edu/~kriz/cifar.html).  The dataset consists of airplanes, dogs, cats, and other objects. You'll preprocess the images, then train a convolutional neural network on all the samples. The images need to be normalized and the labels need to be one-hot encoded.  You'll get to apply what you learned and build a convolutional, max pooling, dropout, and fully connected layers.  At the end, you'll get to see your neural network's predictions on the sample images.\n",
    "## Get the Data\n",
    "Run the following cell to download the [CIFAR-10 dataset for python](https://www.cs.toronto.edu/~kriz/cifar-10-python.tar.gz)."
   ]
  },
  {
   "cell_type": "code",
   "execution_count": 2,
   "metadata": {},
   "outputs": [
    {
     "name": "stdout",
     "output_type": "stream",
     "text": [
      "All files found!\n"
     ]
    }
   ],
   "source": [
    "\"\"\"\n",
    "DON'T MODIFY ANYTHING IN THIS CELL THAT IS BELOW THIS LINE\n",
    "\"\"\"\n",
    "from urllib.request import urlretrieve\n",
    "from os.path import isfile, isdir\n",
    "from tqdm import tqdm\n",
    "import problem_unittests as tests\n",
    "import tarfile\n",
    "\n",
    "cifar10_dataset_folder_path = 'cifar-10-batches-py'\n",
    "\n",
    "# Use Floyd's cifar-10 dataset if present\n",
    "floyd_cifar10_location = '/input/cifar-10/python.tar.gz'\n",
    "if isfile(floyd_cifar10_location):\n",
    "    tar_gz_path = floyd_cifar10_location\n",
    "else:\n",
    "    tar_gz_path = 'cifar-10-python.tar.gz'\n",
    "\n",
    "class DLProgress(tqdm):\n",
    "    last_block = 0\n",
    "\n",
    "    def hook(self, block_num=1, block_size=1, total_size=None):\n",
    "        self.total = total_size\n",
    "        self.update((block_num - self.last_block) * block_size)\n",
    "        self.last_block = block_num\n",
    "\n",
    "if not isfile(tar_gz_path):\n",
    "    with DLProgress(unit='B', unit_scale=True, miniters=1, desc='CIFAR-10 Dataset') as pbar:\n",
    "        urlretrieve(\n",
    "            'https://www.cs.toronto.edu/~kriz/cifar-10-python.tar.gz',\n",
    "            tar_gz_path,\n",
    "            pbar.hook)\n",
    "\n",
    "if not isdir(cifar10_dataset_folder_path):\n",
    "    with tarfile.open(tar_gz_path) as tar:\n",
    "        tar.extractall()\n",
    "        tar.close()\n",
    "\n",
    "\n",
    "tests.test_folder_path(cifar10_dataset_folder_path)"
   ]
  },
  {
   "cell_type": "markdown",
   "metadata": {},
   "source": [
    "## Explore the Data\n",
    "The dataset is broken into batches to prevent your machine from running out of memory.  The CIFAR-10 dataset consists of 5 batches, named `data_batch_1`, `data_batch_2`, etc.. Each batch contains the labels and images that are one of the following:\n",
    "* airplane\n",
    "* automobile\n",
    "* bird\n",
    "* cat\n",
    "* deer\n",
    "* dog\n",
    "* frog\n",
    "* horse\n",
    "* ship\n",
    "* truck\n",
    "\n",
    "Understanding a dataset is part of making predictions on the data.  Play around with the code cell below by changing the `batch_id` and `sample_id`. The `batch_id` is the id for a batch (1-5). The `sample_id` is the id for a image and label pair in the batch.\n",
    "\n",
    "Ask yourself \"What are all possible labels?\", \"What is the range of values for the image data?\", \"Are the labels in order or random?\".  Answers to questions like these will help you preprocess the data and end up with better predictions."
   ]
  },
  {
   "cell_type": "code",
   "execution_count": 3,
   "metadata": {},
   "outputs": [
    {
     "name": "stderr",
     "output_type": "stream",
     "text": [
      "/usr/local/lib/python3.5/site-packages/matplotlib/font_manager.py:280: UserWarning: Matplotlib is building the font cache using fc-list. This may take a moment.\n",
      "  'Matplotlib is building the font cache using fc-list. '\n"
     ]
    },
    {
     "name": "stdout",
     "output_type": "stream",
     "text": [
      "\n",
      "Stats of batch 2:\n",
      "Samples: 10000\n",
      "Label Counts: {0: 984, 1: 1007, 2: 1010, 3: 995, 4: 1010, 5: 988, 6: 1008, 7: 1026, 8: 987, 9: 985}\n",
      "First 20 Labels: [1, 6, 6, 8, 8, 3, 4, 6, 0, 6, 0, 3, 6, 6, 5, 4, 8, 3, 2, 6]\n",
      "\n",
      "Example of Image 8:\n",
      "Image - Min Value: 31 Max Value: 255\n",
      "Image - Shape: (32, 32, 3)\n",
      "Label - Label Id: 0 Name: airplane\n"
     ]
    },
    {
     "data": {
      "image/png": "[encoded data removed]",
      "text/plain": [
       "<matplotlib.figure.Figure at 0x7fe275aa3550>"
      ]
     },
     "metadata": {
      "image/png": {
       "height": 250,
       "width": 253
      }
     },
     "output_type": "display_data"
    }
   ],
   "source": [
    "%matplotlib inline\n",
    "%config InlineBackend.figure_format = 'retina'\n",
    "\n",
    "import helper\n",
    "import numpy as np\n",
    "\n",
    "# Explore the dataset\n",
    "batch_id = 2\n",
    "sample_id = 8\n",
    "helper.display_stats(cifar10_dataset_folder_path, batch_id, sample_id)"
   ]
  },
  {
   "cell_type": "markdown",
   "metadata": {},
   "source": [
    "## Implement Preprocess Functions\n",
    "### Normalize\n",
    "In the cell below, implement the `normalize` function to take in image data, `x`, and return it as a normalized Numpy array. The values should be in the range of 0 to 1, inclusive.  The return object should be the same shape as `x`."
   ]
  },
  {
   "cell_type": "code",
   "execution_count": 4,
   "metadata": {},
   "outputs": [
    {
     "name": "stdout",
     "output_type": "stream",
     "text": [
      "Tests Passed\n"
     ]
    }
   ],
   "source": [
    "def normalize(x):\n",
    "    \"\"\"\n",
    "    Normalize a list of sample image data in the range of 0 to 1\n",
    "    : x: List of image data.  The image shape is (32, 32, 3)\n",
    "    : return: Numpy array of normalize data\n",
    "    \"\"\"\n",
    "    # TODO: Implement Function\n",
    "    return np.array(x) / 255\n",
    "\n",
    "\n",
    "\"\"\"\n",
    "DON'T MODIFY ANYTHING IN THIS CELL THAT IS BELOW THIS LINE\n",
    "\"\"\"\n",
    "tests.test_normalize(normalize)"
   ]
  },
  {
   "cell_type": "markdown",
   "metadata": {},
   "source": [
    "### One-hot encode\n",
    "Just like the previous code cell, you'll be implementing a function for preprocessing.  This time, you'll implement the `one_hot_encode` function. The input, `x`, are a list of labels.  Implement the function to return the list of labels as One-Hot encoded Numpy array.  The possible values for labels are 0 to 9. The one-hot encoding function should return the same encoding for each value between each call to `one_hot_encode`.  Make sure to save the map of encodings outside the function.\n",
    "\n",
    "Hint: Don't reinvent the wheel."
   ]
  },
  {
   "cell_type": "code",
   "execution_count": 5,
   "metadata": {},
   "outputs": [
    {
     "name": "stdout",
     "output_type": "stream",
     "text": [
      "Tests Passed\n"
     ]
    }
   ],
   "source": [
    "def one_hot_encode(x):\n",
    "    \"\"\"\n",
    "    One hot encode a list of sample labels. Return a one-hot encoded vector for each label.\n",
    "    : x: List of sample Labels\n",
    "    : return: Numpy array of one-hot encoded labels\n",
    "    \"\"\"\n",
    "    # TODO: Implement Function\n",
    "    return np.eye(10)[x]\n",
    "\n",
    "\n",
    "\"\"\"\n",
    "DON'T MODIFY ANYTHING IN THIS CELL THAT IS BELOW THIS LINE\n",
    "\"\"\"\n",
    "tests.test_one_hot_encode(one_hot_encode)"
   ]
  },
  {
   "cell_type": "markdown",
   "metadata": {},
   "source": [
    "### Randomize Data\n",
    "As you saw from exploring the data above, the order of the samples are randomized.  It doesn't hurt to randomize it again, but you don't need to for this dataset."
   ]
  },
  {
   "cell_type": "markdown",
   "metadata": {},
   "source": [
    "## Preprocess all the data and save it\n",
    "Running the code cell below will preprocess all the CIFAR-10 data and save it to file. The code below also uses 10% of the training data for validation."
   ]
  },
  {
   "cell_type": "code",
   "execution_count": 6,
   "metadata": {
    "collapsed": true
   },
   "outputs": [],
   "source": [
    "\"\"\"\n",
    "DON'T MODIFY ANYTHING IN THIS CELL\n",
    "\"\"\"\n",
    "# Preprocess Training, Validation, and Testing Data\n",
    "helper.preprocess_and_save_data(cifar10_dataset_folder_path, normalize, one_hot_encode)"
   ]
  },
  {
   "cell_type": "markdown",
   "metadata": {},
   "source": [
    "# Check Point\n",
    "This is your first checkpoint.  If you ever decide to come back to this notebook or have to restart the notebook, you can start from here.  The preprocessed data has been saved to disk."
   ]
  },
  {
   "cell_type": "code",
   "execution_count": 7,
   "metadata": {
    "collapsed": true
   },
   "outputs": [],
   "source": [
    "\"\"\"\n",
    "DON'T MODIFY ANYTHING IN THIS CELL\n",
    "\"\"\"\n",
    "import pickle\n",
    "import problem_unittests as tests\n",
    "import helper\n",
    "\n",
    "# Load the Preprocessed Validation data\n",
    "valid_features, valid_labels = pickle.load(open('preprocess_validation.p', mode='rb'))"
   ]
  },
  {
   "cell_type": "markdown",
   "metadata": {},
   "source": [
    "## Build the network\n",
    "For the neural network, you'll build each layer into a function.  Most of the code you've seen has been outside of functions. To test your code more thoroughly, we require that you put each layer in a function.  This allows us to give you better feedback and test for simple mistakes using our unittests before you submit your project.\n",
    "\n",
    ">**Note:** If you're finding it hard to dedicate enough time for this course each week, we've provided a small shortcut to this part of the project. In the next couple of problems, you'll have the option to use classes from the [TensorFlow Layers](https://www.tensorflow.org/api_docs/python/tf/layers) or [TensorFlow Layers (contrib)](https://www.tensorflow.org/api_guides/python/contrib.layers) packages to build each layer, except the layers you build in the \"Convolutional and Max Pooling Layer\" section.  TF Layers is similar to Keras's and TFLearn's abstraction to layers, so it's easy to pickup.\n",
    "\n",
    ">However, if you would like to get the most out of this course, try to solve all the problems _without_ using anything from the TF Layers packages. You **can** still use classes from other packages that happen to have the same name as ones you find in TF Layers! For example, instead of using the TF Layers version of the `conv2d` class, [tf.layers.conv2d](https://www.tensorflow.org/api_docs/python/tf/layers/conv2d), you would want to use the TF Neural Network version of `conv2d`, [tf.nn.conv2d](https://www.tensorflow.org/api_docs/python/tf/nn/conv2d). \n",
    "\n",
    "Let's begin!\n",
    "\n",
    "### Input\n",
    "The neural network needs to read the image data, one-hot encoded labels, and dropout keep probability. Implement the following functions\n",
    "* Implement `neural_net_image_input`\n",
    " * Return a [TF Placeholder](https://www.tensorflow.org/api_docs/python/tf/placeholder)\n",
    " * Set the shape using `image_shape` with batch size set to `None`.\n",
    " * Name the TensorFlow placeholder \"x\" using the TensorFlow `name` parameter in the [TF Placeholder](https://www.tensorflow.org/api_docs/python/tf/placeholder).\n",
    "* Implement `neural_net_label_input`\n",
    " * Return a [TF Placeholder](https://www.tensorflow.org/api_docs/python/tf/placeholder)\n",
    " * Set the shape using `n_classes` with batch size set to `None`.\n",
    " * Name the TensorFlow placeholder \"y\" using the TensorFlow `name` parameter in the [TF Placeholder](https://www.tensorflow.org/api_docs/python/tf/placeholder).\n",
    "* Implement `neural_net_keep_prob_input`\n",
    " * Return a [TF Placeholder](https://www.tensorflow.org/api_docs/python/tf/placeholder) for dropout keep probability.\n",
    " * Name the TensorFlow placeholder \"keep_prob\" using the TensorFlow `name` parameter in the [TF Placeholder](https://www.tensorflow.org/api_docs/python/tf/placeholder).\n",
    "\n",
    "These names will be used at the end of the project to load your saved model.\n",
    "\n",
    "Note: `None` for shapes in TensorFlow allow for a dynamic size."
   ]
  },
  {
   "cell_type": "code",
   "execution_count": 8,
   "metadata": {},
   "outputs": [
    {
     "name": "stdout",
     "output_type": "stream",
     "text": [
      "Image Input Tests Passed.\n",
      "Label Input Tests Passed.\n",
      "Keep Prob Tests Passed.\n"
     ]
    }
   ],
   "source": [
    "import tensorflow as tf\n",
    "\n",
    "def neural_net_image_input(image_shape):\n",
    "    \"\"\"\n",
    "    Return a Tensor for a batch of image input\n",
    "    : image_shape: Shape of the images\n",
    "    : return: Tensor for image input.\n",
    "    \"\"\"\n",
    "    # TODO: Implement Function\n",
    "    return tf.placeholder(tf.float32, shape=(None, *image_shape), name='x')\n",
    "\n",
    "\n",
    "def neural_net_label_input(n_classes):\n",
    "    \"\"\"\n",
    "    Return a Tensor for a batch of label input\n",
    "    : n_classes: Number of classes\n",
    "    : return: Tensor for label input.\n",
    "    \"\"\"\n",
    "    # TODO: Implement Function\n",
    "    return tf.placeholder(tf.float32, shape=[None, n_classes], name='y')\n",
    "\n",
    "\n",
    "def neural_net_keep_prob_input():\n",
    "    \"\"\"\n",
    "    Return a Tensor for keep probability\n",
    "    : return: Tensor for keep probability.\n",
    "    \"\"\"\n",
    "    # TODO: Implement Function\n",
    "    return tf.placeholder(tf.float32, name='keep_prob')\n",
    "\n",
    "\n",
    "\"\"\"\n",
    "DON'T MODIFY ANYTHING IN THIS CELL THAT IS BELOW THIS LINE\n",
    "\"\"\"\n",
    "tf.reset_default_graph()\n",
    "tests.test_nn_image_inputs(neural_net_image_input)\n",
    "tests.test_nn_label_inputs(neural_net_label_input)\n",
    "tests.test_nn_keep_prob_inputs(neural_net_keep_prob_input)"
   ]
  },
  {
   "cell_type": "markdown",
   "metadata": {},
   "source": [
    "### Convolution and Max Pooling Layer\n",
    "Convolution layers have a lot of success with images. For this code cell, you should implement the function `conv2d_maxpool` to apply convolution then max pooling:\n",
    "* Create the weight and bias using `conv_ksize`, `conv_num_outputs` and the shape of `x_tensor`.\n",
    "* Apply a convolution to `x_tensor` using weight and `conv_strides`.\n",
    " * We recommend you use same padding, but you're welcome to use any padding.\n",
    "* Add bias\n",
    "* Add a nonlinear activation to the convolution.\n",
    "* Apply Max Pooling using `pool_ksize` and `pool_strides`.\n",
    " * We recommend you use same padding, but you're welcome to use any padding.\n",
    "\n",
    "**Note:** You **can't** use [TensorFlow Layers](https://www.tensorflow.org/api_docs/python/tf/layers) or [TensorFlow Layers (contrib)](https://www.tensorflow.org/api_guides/python/contrib.layers) for **this** layer, but you can still use TensorFlow's [Neural Network](https://www.tensorflow.org/api_docs/python/tf/nn) package. You may still use the shortcut option for all the **other** layers."
   ]
  },
  {
   "cell_type": "code",
   "execution_count": 42,
   "metadata": {
    "scrolled": false
   },
   "outputs": [
    {
     "name": "stdout",
     "output_type": "stream",
     "text": [
      "Tests Passed\n"
     ]
    }
   ],
   "source": [
    "def conv2d_maxpool(x_tensor, conv_num_outputs, conv_ksize, conv_strides, pool_ksize, pool_strides):\n",
    "    \"\"\"\n",
    "    Apply convolution then max pooling to x_tensor\n",
    "    :param x_tensor: TensorFlow Tensor\n",
    "    :param conv_num_outputs: Number of outputs for the convolutional layer\n",
    "    :param conv_ksize: kernal size 2-D Tuple for the convolutional layer\n",
    "    :param conv_strides: Stride 2-D Tuple for convolution\n",
    "    :param pool_ksize: kernal size 2-D Tuple for pool\n",
    "    :param pool_strides: Stride 2-D Tuple for pool\n",
    "    : return: A tensor that represents convolution and max pooling of x_tensor\n",
    "    \"\"\"\n",
    "    # TODO: Implement Function\n",
    "    in_channels = int(x_tensor.shape[3])\n",
    "    out_channels = conv_num_outputs\n",
    "    weights = tf.Variable(tf.truncated_normal((*conv_ksize, in_channels, out_channels), \n",
    "                                              stddev=0.1))\n",
    "    bias = tf.Variable(tf.zeros(out_channels))\n",
    "    conv_strides = (1, *conv_strides, 1)\n",
    "    conv_layer = tf.nn.conv2d(x_tensor, weights, conv_strides, 'SAME')\n",
    "    conv_layer = tf.nn.bias_add(conv_layer, bias)\n",
    "    conv_layer = tf.nn.relu(conv_layer)\n",
    "    pool_ksize = (1, *pool_ksize, 1)\n",
    "    pool_strides = (1, *pool_strides, 1)\n",
    "    max_pool_layer = tf.nn.max_pool(conv_layer, pool_ksize, pool_strides, 'SAME')\n",
    "    return max_pool_layer \n",
    "\n",
    "\n",
    "\"\"\"\n",
    "DON'T MODIFY ANYTHING IN THIS CELL THAT IS BELOW THIS LINE\n",
    "\"\"\"\n",
    "tests.test_con_pool(conv2d_maxpool)"
   ]
  },
  {
   "cell_type": "markdown",
   "metadata": {},
   "source": [
    "### Flatten Layer\n",
    "Implement the `flatten` function to change the dimension of `x_tensor` from a 4-D tensor to a 2-D tensor.  The output should be the shape (*Batch Size*, *Flattened Image Size*). Shortcut option: you can use classes from the [TensorFlow Layers](https://www.tensorflow.org/api_docs/python/tf/layers) or [TensorFlow Layers (contrib)](https://www.tensorflow.org/api_guides/python/contrib.layers) packages for this layer. For more of a challenge, only use other TensorFlow packages."
   ]
  },
  {
   "cell_type": "code",
   "execution_count": 11,
   "metadata": {},
   "outputs": [
    {
     "name": "stdout",
     "output_type": "stream",
     "text": [
      "Tests Passed\n"
     ]
    }
   ],
   "source": [
    "def flatten(x_tensor):\n",
    "    \"\"\"\n",
    "    Flatten x_tensor to (Batch Size, Flattened Image Size)\n",
    "    : x_tensor: A tensor of size (Batch Size, ...), where ... are the image dimensions.\n",
    "    : return: A tensor of size (Batch Size, Flattened Image Size).\n",
    "    \"\"\"\n",
    "    # TODO: Implement Function\n",
    "    return tf.contrib.layers.flatten(x_tensor)\n",
    "\n",
    "\n",
    "\"\"\"\n",
    "DON'T MODIFY ANYTHING IN THIS CELL THAT IS BELOW THIS LINE\n",
    "\"\"\"\n",
    "tests.test_flatten(flatten)"
   ]
  },
  {
   "cell_type": "markdown",
   "metadata": {},
   "source": [
    "### Fully-Connected Layer\n",
    "Implement the `fully_conn` function to apply a fully connected layer to `x_tensor` with the shape (*Batch Size*, *num_outputs*). Shortcut option: you can use classes from the [TensorFlow Layers](https://www.tensorflow.org/api_docs/python/tf/layers) or [TensorFlow Layers (contrib)](https://www.tensorflow.org/api_guides/python/contrib.layers) packages for this layer. For more of a challenge, only use other TensorFlow packages."
   ]
  },
  {
   "cell_type": "code",
   "execution_count": 12,
   "metadata": {},
   "outputs": [
    {
     "name": "stdout",
     "output_type": "stream",
     "text": [
      "Tests Passed\n"
     ]
    }
   ],
   "source": [
    "def fully_conn(x_tensor, num_outputs):\n",
    "    \"\"\"\n",
    "    Apply a fully connected layer to x_tensor using weight and bias\n",
    "    : x_tensor: A 2-D tensor where the first dimension is batch size.\n",
    "    : num_outputs: The number of output that the new tensor should be.\n",
    "    : return: A 2-D tensor where the second dimension is num_outputs.\n",
    "    \"\"\"\n",
    "    # TODO: Implement Function\n",
    "    return tf.contrib.layers.fully_connected(x_tensor, num_outputs, activation_fn=tf.nn.relu)\n",
    "\n",
    "\n",
    "\"\"\"\n",
    "DON'T MODIFY ANYTHING IN THIS CELL THAT IS BELOW THIS LINE\n",
    "\"\"\"\n",
    "tests.test_fully_conn(fully_conn)"
   ]
  },
  {
   "cell_type": "markdown",
   "metadata": {},
   "source": [
    "### Output Layer\n",
    "Implement the `output` function to apply a fully connected layer to `x_tensor` with the shape (*Batch Size*, *num_outputs*). Shortcut option: you can use classes from the [TensorFlow Layers](https://www.tensorflow.org/api_docs/python/tf/layers) or [TensorFlow Layers (contrib)](https://www.tensorflow.org/api_guides/python/contrib.layers) packages for this layer. For more of a challenge, only use other TensorFlow packages.\n",
    "\n",
    "**Note:** Activation, softmax, or cross entropy should **not** be applied to this."
   ]
  },
  {
   "cell_type": "code",
   "execution_count": 13,
   "metadata": {},
   "outputs": [
    {
     "name": "stdout",
     "output_type": "stream",
     "text": [
      "Tests Passed\n"
     ]
    }
   ],
   "source": [
    "def output(x_tensor, num_outputs):\n",
    "    \"\"\"\n",
    "    Apply a output layer to x_tensor using weight and bias\n",
    "    : x_tensor: A 2-D tensor where the first dimension is batch size.\n",
    "    : num_outputs: The number of output that the new tensor should be.\n",
    "    : return: A 2-D tensor where the second dimension is num_outputs.\n",
    "    \"\"\"\n",
    "    # TODO: Implement Function\n",
    "    return tf.contrib.layers.fully_connected(x_tensor, num_outputs, activation_fn=None)\n",
    "\n",
    "\n",
    "\"\"\"\n",
    "DON'T MODIFY ANYTHING IN THIS CELL THAT IS BELOW THIS LINE\n",
    "\"\"\"\n",
    "tests.test_output(output)"
   ]
  },
  {
   "cell_type": "markdown",
   "metadata": {},
   "source": [
    "### Create Convolutional Model\n",
    "Implement the function `conv_net` to create a convolutional neural network model. The function takes in a batch of images, `x`, and outputs logits.  Use the layers you created above to create this model:\n",
    "\n",
    "* Apply 1, 2, or 3 Convolution and Max Pool layers\n",
    "* Apply a Flatten Layer\n",
    "* Apply 1, 2, or 3 Fully Connected Layers\n",
    "* Apply an Output Layer\n",
    "* Return the output\n",
    "* Apply [TensorFlow's Dropout](https://www.tensorflow.org/api_docs/python/tf/nn/dropout) to one or more layers in the model using `keep_prob`. "
   ]
  },
  {
   "cell_type": "code",
   "execution_count": 47,
   "metadata": {},
   "outputs": [
    {
     "name": "stdout",
     "output_type": "stream",
     "text": [
      "Neural Network Built!\n"
     ]
    }
   ],
   "source": [
    "def conv_net(x, keep_prob):\n",
    "    \"\"\"\n",
    "    Create a convolutional neural network model\n",
    "    : x: Placeholder tensor that holds image data.\n",
    "    : keep_prob: Placeholder tensor that hold dropout keep probability.\n",
    "    : return: Tensor that represents logits\n",
    "    \"\"\"\n",
    "    # TODO: Apply 1, 2, or 3 Convolution and Max Pool layers\n",
    "    #    Play around with different number of outputs, kernel size and stride\n",
    "    # Function Definition from Above:\n",
    "    #    conv2d_maxpool(x_tensor, conv_num_outputs, conv_ksize, conv_strides, pool_ksize, pool_strides)\n",
    "    layer_1 = conv2d_maxpool(x, 64, (3,3), (1,1), (2,2), (2,2))\n",
    "    layer_2 = conv2d_maxpool(layer_1, 128, (3,3), (1,1), (2,2), (2,2))\n",
    "\n",
    "    # TODO: Apply a Flatten Layer\n",
    "    # Function Definition from Above:\n",
    "    #   flatten(x_tensor)\n",
    "    flatten_layer = flatten(layer_1)\n",
    "\n",
    "    # TODO: Apply 1, 2, or 3 Fully Connected Layers\n",
    "    #    Play around with different number of outputs\n",
    "    # Function Definition from Above:\n",
    "    #   fully_conn(x_tensor, num_outputs)\n",
    "    fully_conn_layer_1 = fully_conn(flatten_layer, 512)\n",
    "    fully_conn_layer_1 = tf.nn.dropout(fully_conn_layer_1, keep_prob)\n",
    "    fully_conn_layer_2 = fully_conn(fully_conn_layer_1, 256)\n",
    "    fully_conn_layer_2 = tf.nn.dropout(fully_conn_layer_2, keep_prob)\n",
    "    \n",
    "    # TODO: Apply an Output Layer\n",
    "    #    Set this to the number of classes\n",
    "    # Function Definition from Above:\n",
    "    #   output(x_tensor, num_outputs)\n",
    "    output_layer = output(fully_conn_layer_2, 10)\n",
    "    \n",
    "    # TODO: return output\n",
    "    return output_layer\n",
    "\n",
    "\n",
    "\"\"\"\n",
    "DON'T MODIFY ANYTHING IN THIS CELL THAT IS BELOW THIS LINE\n",
    "\"\"\"\n",
    "\n",
    "##############################\n",
    "## Build the Neural Network ##\n",
    "##############################\n",
    "\n",
    "# Remove previous weights, bias, inputs, etc..\n",
    "tf.reset_default_graph()\n",
    "\n",
    "# Inputs\n",
    "x = neural_net_image_input((32, 32, 3))\n",
    "y = neural_net_label_input(10)\n",
    "keep_prob = neural_net_keep_prob_input()\n",
    "\n",
    "# Model\n",
    "logits = conv_net(x, keep_prob)\n",
    "\n",
    "# Name logits Tensor, so that is can be loaded from disk after training\n",
    "logits = tf.identity(logits, name='logits')\n",
    "\n",
    "# Loss and Optimizer\n",
    "cost = tf.reduce_mean(tf.nn.softmax_cross_entropy_with_logits(logits=logits, labels=y))\n",
    "optimizer = tf.train.AdamOptimizer().minimize(cost)\n",
    "\n",
    "# Accuracy\n",
    "correct_pred = tf.equal(tf.argmax(logits, 1), tf.argmax(y, 1))\n",
    "accuracy = tf.reduce_mean(tf.cast(correct_pred, tf.float32), name='accuracy')\n",
    "\n",
    "tests.test_conv_net(conv_net)"
   ]
  },
  {
   "cell_type": "markdown",
   "metadata": {},
   "source": [
    "## Train the Neural Network\n",
    "### Single Optimization\n",
    "Implement the function `train_neural_network` to do a single optimization.  The optimization should use `optimizer` to optimize in `session` with a `feed_dict` of the following:\n",
    "* `x` for image input\n",
    "* `y` for labels\n",
    "* `keep_prob` for keep probability for dropout\n",
    "\n",
    "This function will be called for each batch, so `tf.global_variables_initializer()` has already been called.\n",
    "\n",
    "Note: Nothing needs to be returned. This function is only optimizing the neural network."
   ]
  },
  {
   "cell_type": "code",
   "execution_count": 15,
   "metadata": {},
   "outputs": [
    {
     "name": "stdout",
     "output_type": "stream",
     "text": [
      "Tests Passed\n"
     ]
    }
   ],
   "source": [
    "def train_neural_network(session, optimizer, keep_probability, feature_batch, label_batch):\n",
    "    \"\"\"\n",
    "    Optimize the session on a batch of images and labels\n",
    "    : session: Current TensorFlow session\n",
    "    : optimizer: TensorFlow optimizer function\n",
    "    : keep_probability: keep probability\n",
    "    : feature_batch: Batch of Numpy image data\n",
    "    : label_batch: Batch of Numpy label data\n",
    "    \"\"\"\n",
    "    # TODO: Implement Function\n",
    "    session.run(optimizer, feed_dict={x: feature_batch, y: label_batch, keep_prob: keep_probability})\n",
    "\n",
    "\n",
    "\"\"\"\n",
    "DON'T MODIFY ANYTHING IN THIS CELL THAT IS BELOW THIS LINE\n",
    "\"\"\"\n",
    "tests.test_train_nn(train_neural_network)"
   ]
  },
  {
   "cell_type": "markdown",
   "metadata": {},
   "source": [
    "### Show Stats\n",
    "Implement the function `print_stats` to print loss and validation accuracy.  Use the global variables `valid_features` and `valid_labels` to calculate validation accuracy.  Use a keep probability of `1.0` to calculate the loss and validation accuracy."
   ]
  },
  {
   "cell_type": "code",
   "execution_count": 16,
   "metadata": {
    "collapsed": true
   },
   "outputs": [],
   "source": [
    "def print_stats(session, feature_batch, label_batch, cost, accuracy):\n",
    "    \"\"\"\n",
    "    Print information about loss and validation accuracy\n",
    "    : session: Current TensorFlow session\n",
    "    : feature_batch: Batch of Numpy image data\n",
    "    : label_batch: Batch of Numpy label data\n",
    "    : cost: TensorFlow cost function\n",
    "    : accuracy: TensorFlow accuracy function\n",
    "    \"\"\"\n",
    "    print('Loss is {0:.4f} Accuracy is {1:.4f}'.format(session.run(cost, feed_dict={x: feature_batch, y: label_batch, keep_prob: 1.0}),\n",
    "                                              session.run(accuracy, feed_dict={x: valid_features, y: valid_labels, keep_prob: 1.0})))"
   ]
  },
  {
   "cell_type": "markdown",
   "metadata": {},
   "source": [
    "### Hyperparameters\n",
    "Tune the following parameters:\n",
    "* Set `epochs` to the number of iterations until the network stops learning or start overfitting\n",
    "* Set `batch_size` to the highest number that your machine has memory for.  Most people set them to common sizes of memory:\n",
    " * 64\n",
    " * 128\n",
    " * 256\n",
    " * ...\n",
    "* Set `keep_probability` to the probability of keeping a node using dropout"
   ]
  },
  {
   "cell_type": "code",
   "execution_count": 25,
   "metadata": {
    "collapsed": true
   },
   "outputs": [],
   "source": [
    "# TODO: Tune Parameters\n",
    "epochs = 50\n",
    "batch_size = 128\n",
    "keep_probability = 0.5"
   ]
  },
  {
   "cell_type": "markdown",
   "metadata": {},
   "source": [
    "### Train on a Single CIFAR-10 Batch\n",
    "Instead of training the neural network on all the CIFAR-10 batches of data, let's use a single batch. This should save time while you iterate on the model to get a better accuracy.  Once the final validation accuracy is 50% or greater, run the model on all the data in the next section."
   ]
  },
  {
   "cell_type": "code",
   "execution_count": 48,
   "metadata": {
    "scrolled": true
   },
   "outputs": [
    {
     "name": "stdout",
     "output_type": "stream",
     "text": [
      "Checking the Training on a Single Batch...\n",
      "Epoch  1, CIFAR-10 Batch 1:  Loss is 2.0508 Accuracy is 0.3474\n",
      "Epoch  2, CIFAR-10 Batch 1:  Loss is 1.7772 Accuracy is 0.4106\n",
      "Epoch  3, CIFAR-10 Batch 1:  Loss is 1.5259 Accuracy is 0.4660\n",
      "Epoch  4, CIFAR-10 Batch 1:  Loss is 1.3098 Accuracy is 0.4756\n",
      "Epoch  5, CIFAR-10 Batch 1:  Loss is 1.1570 Accuracy is 0.5124\n",
      "Epoch  6, CIFAR-10 Batch 1:  Loss is 1.0057 Accuracy is 0.5114\n",
      "Epoch  7, CIFAR-10 Batch 1:  Loss is 0.8993 Accuracy is 0.5236\n",
      "Epoch  8, CIFAR-10 Batch 1:  Loss is 0.8164 Accuracy is 0.5400\n",
      "Epoch  9, CIFAR-10 Batch 1:  Loss is 0.7212 Accuracy is 0.5274\n",
      "Epoch 10, CIFAR-10 Batch 1:  Loss is 0.6793 Accuracy is 0.5368\n",
      "Epoch 11, CIFAR-10 Batch 1:  Loss is 0.6128 Accuracy is 0.5514\n",
      "Epoch 12, CIFAR-10 Batch 1:  Loss is 0.5200 Accuracy is 0.5586\n",
      "Epoch 13, CIFAR-10 Batch 1:  Loss is 0.4871 Accuracy is 0.5448\n",
      "Epoch 14, CIFAR-10 Batch 1:  Loss is 0.4448 Accuracy is 0.5280\n",
      "Epoch 15, CIFAR-10 Batch 1:  Loss is 0.4047 Accuracy is 0.5562\n",
      "Epoch 16, CIFAR-10 Batch 1:  Loss is 0.3673 Accuracy is 0.5632\n",
      "Epoch 17, CIFAR-10 Batch 1:  Loss is 0.3256 Accuracy is 0.5542\n",
      "Epoch 18, CIFAR-10 Batch 1:  Loss is 0.3218 Accuracy is 0.5530\n",
      "Epoch 19, CIFAR-10 Batch 1:  Loss is 0.2970 Accuracy is 0.5590\n",
      "Epoch 20, CIFAR-10 Batch 1:  Loss is 0.2584 Accuracy is 0.5498\n",
      "Epoch 21, CIFAR-10 Batch 1:  Loss is 0.2297 Accuracy is 0.5628\n",
      "Epoch 22, CIFAR-10 Batch 1:  Loss is 0.1917 Accuracy is 0.5544\n",
      "Epoch 23, CIFAR-10 Batch 1:  Loss is 0.2015 Accuracy is 0.5534\n",
      "Epoch 24, CIFAR-10 Batch 1:  Loss is 0.1727 Accuracy is 0.5612\n",
      "Epoch 25, CIFAR-10 Batch 1:  Loss is 0.1942 Accuracy is 0.5454\n",
      "Epoch 26, CIFAR-10 Batch 1:  Loss is 0.1787 Accuracy is 0.5670\n",
      "Epoch 27, CIFAR-10 Batch 1:  Loss is 0.1592 Accuracy is 0.5552\n",
      "Epoch 28, CIFAR-10 Batch 1:  Loss is 0.1397 Accuracy is 0.5572\n",
      "Epoch 29, CIFAR-10 Batch 1:  Loss is 0.1304 Accuracy is 0.5638\n",
      "Epoch 30, CIFAR-10 Batch 1:  Loss is 0.1098 Accuracy is 0.5484\n",
      "Epoch 31, CIFAR-10 Batch 1:  Loss is 0.1090 Accuracy is 0.5576\n",
      "Epoch 32, CIFAR-10 Batch 1:  Loss is 0.1026 Accuracy is 0.5558\n",
      "Epoch 33, CIFAR-10 Batch 1:  Loss is 0.0826 Accuracy is 0.5636\n",
      "Epoch 34, CIFAR-10 Batch 1:  Loss is 0.1070 Accuracy is 0.5508\n",
      "Epoch 35, CIFAR-10 Batch 1:  Loss is 0.1037 Accuracy is 0.5416\n",
      "Epoch 36, CIFAR-10 Batch 1:  Loss is 0.0655 Accuracy is 0.5546\n",
      "Epoch 37, CIFAR-10 Batch 1:  Loss is 0.0664 Accuracy is 0.5534\n",
      "Epoch 38, CIFAR-10 Batch 1:  Loss is 0.0591 Accuracy is 0.5628\n",
      "Epoch 39, CIFAR-10 Batch 1:  Loss is 0.0686 Accuracy is 0.5602\n",
      "Epoch 40, CIFAR-10 Batch 1:  Loss is 0.0799 Accuracy is 0.5690\n",
      "Epoch 41, CIFAR-10 Batch 1:  Loss is 0.0563 Accuracy is 0.5608\n",
      "Epoch 42, CIFAR-10 Batch 1:  Loss is 0.0459 Accuracy is 0.5562\n",
      "Epoch 43, CIFAR-10 Batch 1:  Loss is 0.0488 Accuracy is 0.5462\n",
      "Epoch 44, CIFAR-10 Batch 1:  Loss is 0.0463 Accuracy is 0.5538\n",
      "Epoch 45, CIFAR-10 Batch 1:  Loss is 0.0343 Accuracy is 0.5552\n",
      "Epoch 46, CIFAR-10 Batch 1:  Loss is 0.0327 Accuracy is 0.5522\n",
      "Epoch 47, CIFAR-10 Batch 1:  Loss is 0.0372 Accuracy is 0.5554\n",
      "Epoch 48, CIFAR-10 Batch 1:  Loss is 0.0399 Accuracy is 0.5420\n",
      "Epoch 49, CIFAR-10 Batch 1:  Loss is 0.0304 Accuracy is 0.5674\n",
      "Epoch 50, CIFAR-10 Batch 1:  Loss is 0.0414 Accuracy is 0.5530\n"
     ]
    }
   ],
   "source": [
    "\"\"\"\n",
    "DON'T MODIFY ANYTHING IN THIS CELL\n",
    "\"\"\"\n",
    "print('Checking the Training on a Single Batch...')\n",
    "with tf.Session() as sess:\n",
    "    # Initializing the variables\n",
    "    sess.run(tf.global_variables_initializer())\n",
    "    \n",
    "    # Training cycle\n",
    "    for epoch in range(epochs):\n",
    "        batch_i = 1\n",
    "        for batch_features, batch_labels in helper.load_preprocess_training_batch(batch_i, batch_size):\n",
    "            train_neural_network(sess, optimizer, keep_probability, batch_features, batch_labels)\n",
    "        print('Epoch {:>2}, CIFAR-10 Batch {}:  '.format(epoch + 1, batch_i), end='')\n",
    "        print_stats(sess, batch_features, batch_labels, cost, accuracy)"
   ]
  },
  {
   "cell_type": "markdown",
   "metadata": {},
   "source": [
    "### Fully Train the Model\n",
    "Now that you got a good accuracy with a single CIFAR-10 batch, try it with all five batches."
   ]
  },
  {
   "cell_type": "code",
   "execution_count": 49,
   "metadata": {
    "scrolled": true
   },
   "outputs": [
    {
     "name": "stdout",
     "output_type": "stream",
     "text": [
      "Training...\n",
      "Epoch  1, CIFAR-10 Batch 1:  Loss is 2.1069 Accuracy is 0.3148\n",
      "Epoch  1, CIFAR-10 Batch 2:  Loss is 1.6621 Accuracy is 0.4024\n",
      "Epoch  1, CIFAR-10 Batch 3:  Loss is 1.4108 Accuracy is 0.4436\n",
      "Epoch  1, CIFAR-10 Batch 4:  Loss is 1.4511 Accuracy is 0.4806\n",
      "Epoch  1, CIFAR-10 Batch 5:  Loss is 1.4225 Accuracy is 0.5040\n",
      "Epoch  2, CIFAR-10 Batch 1:  Loss is 1.4781 Accuracy is 0.5108\n",
      "Epoch  2, CIFAR-10 Batch 2:  Loss is 1.1997 Accuracy is 0.5336\n",
      "Epoch  2, CIFAR-10 Batch 3:  Loss is 1.0505 Accuracy is 0.5352\n",
      "Epoch  2, CIFAR-10 Batch 4:  Loss is 1.1629 Accuracy is 0.5460\n",
      "Epoch  2, CIFAR-10 Batch 5:  Loss is 1.1141 Accuracy is 0.5632\n",
      "Epoch  3, CIFAR-10 Batch 1:  Loss is 1.2199 Accuracy is 0.5630\n",
      "Epoch  3, CIFAR-10 Batch 2:  Loss is 0.9633 Accuracy is 0.5668\n",
      "Epoch  3, CIFAR-10 Batch 3:  Loss is 0.7951 Accuracy is 0.5648\n",
      "Epoch  3, CIFAR-10 Batch 4:  Loss is 1.0806 Accuracy is 0.5872\n",
      "Epoch  3, CIFAR-10 Batch 5:  Loss is 1.0213 Accuracy is 0.5614\n",
      "Epoch  4, CIFAR-10 Batch 1:  Loss is 0.9623 Accuracy is 0.5826\n",
      "Epoch  4, CIFAR-10 Batch 2:  Loss is 0.8276 Accuracy is 0.6048\n",
      "Epoch  4, CIFAR-10 Batch 3:  Loss is 0.6929 Accuracy is 0.5868\n",
      "Epoch  4, CIFAR-10 Batch 4:  Loss is 0.8818 Accuracy is 0.6080\n",
      "Epoch  4, CIFAR-10 Batch 5:  Loss is 0.8120 Accuracy is 0.6012\n",
      "Epoch  5, CIFAR-10 Batch 1:  Loss is 0.8696 Accuracy is 0.6048\n",
      "Epoch  5, CIFAR-10 Batch 2:  Loss is 0.6791 Accuracy is 0.6104\n",
      "Epoch  5, CIFAR-10 Batch 3:  Loss is 0.6168 Accuracy is 0.6060\n",
      "Epoch  5, CIFAR-10 Batch 4:  Loss is 0.7776 Accuracy is 0.6234\n",
      "Epoch  5, CIFAR-10 Batch 5:  Loss is 0.7087 Accuracy is 0.6226\n",
      "Epoch  6, CIFAR-10 Batch 1:  Loss is 0.8222 Accuracy is 0.6190\n",
      "Epoch  6, CIFAR-10 Batch 2:  Loss is 0.6226 Accuracy is 0.6252\n",
      "Epoch  6, CIFAR-10 Batch 3:  Loss is 0.5435 Accuracy is 0.6226\n",
      "Epoch  6, CIFAR-10 Batch 4:  Loss is 0.6569 Accuracy is 0.6246\n",
      "Epoch  6, CIFAR-10 Batch 5:  Loss is 0.6011 Accuracy is 0.6360\n",
      "Epoch  7, CIFAR-10 Batch 1:  Loss is 0.7705 Accuracy is 0.6210\n",
      "Epoch  7, CIFAR-10 Batch 2:  Loss is 0.5513 Accuracy is 0.6366\n",
      "Epoch  7, CIFAR-10 Batch 3:  Loss is 0.4937 Accuracy is 0.6324\n",
      "Epoch  7, CIFAR-10 Batch 4:  Loss is 0.5460 Accuracy is 0.6302\n",
      "Epoch  7, CIFAR-10 Batch 5:  Loss is 0.5350 Accuracy is 0.6444\n",
      "Epoch  8, CIFAR-10 Batch 1:  Loss is 0.6559 Accuracy is 0.6296\n",
      "Epoch  8, CIFAR-10 Batch 2:  Loss is 0.5162 Accuracy is 0.6324\n",
      "Epoch  8, CIFAR-10 Batch 3:  Loss is 0.4389 Accuracy is 0.6294\n",
      "Epoch  8, CIFAR-10 Batch 4:  Loss is 0.5543 Accuracy is 0.6348\n",
      "Epoch  8, CIFAR-10 Batch 5:  Loss is 0.4803 Accuracy is 0.6466\n",
      "Epoch  9, CIFAR-10 Batch 1:  Loss is 0.5537 Accuracy is 0.6430\n",
      "Epoch  9, CIFAR-10 Batch 2:  Loss is 0.4635 Accuracy is 0.6422\n",
      "Epoch  9, CIFAR-10 Batch 3:  Loss is 0.4155 Accuracy is 0.6290\n",
      "Epoch  9, CIFAR-10 Batch 4:  Loss is 0.4841 Accuracy is 0.6372\n",
      "Epoch  9, CIFAR-10 Batch 5:  Loss is 0.4508 Accuracy is 0.6352\n",
      "Epoch 10, CIFAR-10 Batch 1:  Loss is 0.4776 Accuracy is 0.6252\n",
      "Epoch 10, CIFAR-10 Batch 2:  Loss is 0.3988 Accuracy is 0.6458\n",
      "Epoch 10, CIFAR-10 Batch 3:  Loss is 0.3807 Accuracy is 0.6272\n",
      "Epoch 10, CIFAR-10 Batch 4:  Loss is 0.4104 Accuracy is 0.6454\n",
      "Epoch 10, CIFAR-10 Batch 5:  Loss is 0.3754 Accuracy is 0.6374\n",
      "Epoch 11, CIFAR-10 Batch 1:  Loss is 0.4556 Accuracy is 0.6516\n",
      "Epoch 11, CIFAR-10 Batch 2:  Loss is 0.3533 Accuracy is 0.6428\n",
      "Epoch 11, CIFAR-10 Batch 3:  Loss is 0.3788 Accuracy is 0.6442\n",
      "Epoch 11, CIFAR-10 Batch 4:  Loss is 0.3904 Accuracy is 0.6504\n",
      "Epoch 11, CIFAR-10 Batch 5:  Loss is 0.3461 Accuracy is 0.6528\n",
      "Epoch 12, CIFAR-10 Batch 1:  Loss is 0.4133 Accuracy is 0.6476\n",
      "Epoch 12, CIFAR-10 Batch 2:  Loss is 0.3607 Accuracy is 0.6518\n",
      "Epoch 12, CIFAR-10 Batch 3:  Loss is 0.3126 Accuracy is 0.6294\n",
      "Epoch 12, CIFAR-10 Batch 4:  Loss is 0.3423 Accuracy is 0.6598\n",
      "Epoch 12, CIFAR-10 Batch 5:  Loss is 0.3957 Accuracy is 0.6568\n",
      "Epoch 13, CIFAR-10 Batch 1:  Loss is 0.3973 Accuracy is 0.6494\n",
      "Epoch 13, CIFAR-10 Batch 2:  Loss is 0.2886 Accuracy is 0.6582\n",
      "Epoch 13, CIFAR-10 Batch 3:  Loss is 0.2565 Accuracy is 0.6444\n",
      "Epoch 13, CIFAR-10 Batch 4:  Loss is 0.3398 Accuracy is 0.6466\n",
      "Epoch 13, CIFAR-10 Batch 5:  Loss is 0.2868 Accuracy is 0.6504\n",
      "Epoch 14, CIFAR-10 Batch 1:  Loss is 0.3899 Accuracy is 0.6440\n",
      "Epoch 14, CIFAR-10 Batch 2:  Loss is 0.3407 Accuracy is 0.6482\n",
      "Epoch 14, CIFAR-10 Batch 3:  Loss is 0.2482 Accuracy is 0.6348\n",
      "Epoch 14, CIFAR-10 Batch 4:  Loss is 0.2961 Accuracy is 0.6562\n",
      "Epoch 14, CIFAR-10 Batch 5:  Loss is 0.3160 Accuracy is 0.6256\n",
      "Epoch 15, CIFAR-10 Batch 1:  Loss is 0.3752 Accuracy is 0.6528\n",
      "Epoch 15, CIFAR-10 Batch 2:  Loss is 0.2681 Accuracy is 0.6546\n",
      "Epoch 15, CIFAR-10 Batch 3:  Loss is 0.2173 Accuracy is 0.6466\n",
      "Epoch 15, CIFAR-10 Batch 4:  Loss is 0.3110 Accuracy is 0.6444\n",
      "Epoch 15, CIFAR-10 Batch 5:  Loss is 0.2601 Accuracy is 0.6460\n",
      "Epoch 16, CIFAR-10 Batch 1:  Loss is 0.3082 Accuracy is 0.6578\n",
      "Epoch 16, CIFAR-10 Batch 2:  Loss is 0.2486 Accuracy is 0.6504\n",
      "Epoch 16, CIFAR-10 Batch 3:  Loss is 0.2071 Accuracy is 0.6484\n",
      "Epoch 16, CIFAR-10 Batch 4:  Loss is 0.2547 Accuracy is 0.6512\n",
      "Epoch 16, CIFAR-10 Batch 5:  Loss is 0.2257 Accuracy is 0.6532\n",
      "Epoch 17, CIFAR-10 Batch 1:  Loss is 0.3032 Accuracy is 0.6560\n",
      "Epoch 17, CIFAR-10 Batch 2:  Loss is 0.2264 Accuracy is 0.6410\n",
      "Epoch 17, CIFAR-10 Batch 3:  Loss is 0.1649 Accuracy is 0.6452\n",
      "Epoch 17, CIFAR-10 Batch 4:  Loss is 0.2384 Accuracy is 0.6482\n",
      "Epoch 17, CIFAR-10 Batch 5:  Loss is 0.1810 Accuracy is 0.6518\n",
      "Epoch 18, CIFAR-10 Batch 1:  Loss is 0.2732 Accuracy is 0.6552\n",
      "Epoch 18, CIFAR-10 Batch 2:  Loss is 0.2034 Accuracy is 0.6524\n",
      "Epoch 18, CIFAR-10 Batch 3:  Loss is 0.1915 Accuracy is 0.6432\n",
      "Epoch 18, CIFAR-10 Batch 4:  Loss is 0.2632 Accuracy is 0.6348\n",
      "Epoch 18, CIFAR-10 Batch 5:  Loss is 0.1668 Accuracy is 0.6554\n",
      "Epoch 19, CIFAR-10 Batch 1:  Loss is 0.2510 Accuracy is 0.6550\n",
      "Epoch 19, CIFAR-10 Batch 2:  Loss is 0.1935 Accuracy is 0.6648\n",
      "Epoch 19, CIFAR-10 Batch 3:  Loss is 0.1861 Accuracy is 0.6462\n",
      "Epoch 19, CIFAR-10 Batch 4:  Loss is 0.1845 Accuracy is 0.6446\n",
      "Epoch 19, CIFAR-10 Batch 5:  Loss is 0.1871 Accuracy is 0.6470\n",
      "Epoch 20, CIFAR-10 Batch 1:  Loss is 0.2457 Accuracy is 0.6302\n",
      "Epoch 20, CIFAR-10 Batch 2:  Loss is 0.2033 Accuracy is 0.6544\n",
      "Epoch 20, CIFAR-10 Batch 3:  Loss is 0.1648 Accuracy is 0.6314\n",
      "Epoch 20, CIFAR-10 Batch 4:  Loss is 0.1738 Accuracy is 0.6440\n",
      "Epoch 20, CIFAR-10 Batch 5:  Loss is 0.1676 Accuracy is 0.6494\n",
      "Epoch 21, CIFAR-10 Batch 1:  Loss is 0.2323 Accuracy is 0.6512\n",
      "Epoch 21, CIFAR-10 Batch 2:  Loss is 0.1666 Accuracy is 0.6562\n",
      "Epoch 21, CIFAR-10 Batch 3:  Loss is 0.1340 Accuracy is 0.6492\n",
      "Epoch 21, CIFAR-10 Batch 4:  Loss is 0.1815 Accuracy is 0.6450\n",
      "Epoch 21, CIFAR-10 Batch 5:  Loss is 0.1500 Accuracy is 0.6544\n",
      "Epoch 22, CIFAR-10 Batch 1:  Loss is 0.2306 Accuracy is 0.6470\n",
      "Epoch 22, CIFAR-10 Batch 2:  Loss is 0.1535 Accuracy is 0.6448\n",
      "Epoch 22, CIFAR-10 Batch 3:  Loss is 0.1097 Accuracy is 0.6460\n",
      "Epoch 22, CIFAR-10 Batch 4:  Loss is 0.1766 Accuracy is 0.6458\n",
      "Epoch 22, CIFAR-10 Batch 5:  Loss is 0.1452 Accuracy is 0.6508\n",
      "Epoch 23, CIFAR-10 Batch 1:  Loss is 0.1912 Accuracy is 0.6580\n",
      "Epoch 23, CIFAR-10 Batch 2:  Loss is 0.1456 Accuracy is 0.6468\n",
      "Epoch 23, CIFAR-10 Batch 3:  Loss is 0.1217 Accuracy is 0.6448\n",
      "Epoch 23, CIFAR-10 Batch 4:  Loss is 0.2024 Accuracy is 0.6422\n",
      "Epoch 23, CIFAR-10 Batch 5:  Loss is 0.1352 Accuracy is 0.6454\n",
      "Epoch 24, CIFAR-10 Batch 1:  Loss is 0.2119 Accuracy is 0.6544\n",
      "Epoch 24, CIFAR-10 Batch 2:  Loss is 0.1143 Accuracy is 0.6300\n",
      "Epoch 24, CIFAR-10 Batch 3:  Loss is 0.1149 Accuracy is 0.6480\n",
      "Epoch 24, CIFAR-10 Batch 4:  Loss is 0.1544 Accuracy is 0.6474\n",
      "Epoch 24, CIFAR-10 Batch 5:  Loss is 0.1128 Accuracy is 0.6464\n",
      "Epoch 25, CIFAR-10 Batch 1:  Loss is 0.2121 Accuracy is 0.6448\n",
      "Epoch 25, CIFAR-10 Batch 2:  Loss is 0.1406 Accuracy is 0.6500\n",
      "Epoch 25, CIFAR-10 Batch 3:  Loss is 0.1049 Accuracy is 0.6464\n",
      "Epoch 25, CIFAR-10 Batch 4:  Loss is 0.1295 Accuracy is 0.6526\n",
      "Epoch 25, CIFAR-10 Batch 5:  Loss is 0.1048 Accuracy is 0.6508\n",
      "Epoch 26, CIFAR-10 Batch 1:  Loss is 0.1509 Accuracy is 0.6576\n",
      "Epoch 26, CIFAR-10 Batch 2:  Loss is 0.1120 Accuracy is 0.6428\n",
      "Epoch 26, CIFAR-10 Batch 3:  Loss is 0.0880 Accuracy is 0.6468\n",
      "Epoch 26, CIFAR-10 Batch 4:  Loss is 0.1281 Accuracy is 0.6562\n",
      "Epoch 26, CIFAR-10 Batch 5:  Loss is 0.0962 Accuracy is 0.6426\n"
     ]
    },
    {
     "name": "stdout",
     "output_type": "stream",
     "text": [
      "Epoch 27, CIFAR-10 Batch 1:  Loss is 0.1595 Accuracy is 0.6496\n",
      "Epoch 27, CIFAR-10 Batch 2:  Loss is 0.1017 Accuracy is 0.6458\n",
      "Epoch 27, CIFAR-10 Batch 3:  Loss is 0.0742 Accuracy is 0.6522\n",
      "Epoch 27, CIFAR-10 Batch 4:  Loss is 0.1281 Accuracy is 0.6498\n",
      "Epoch 27, CIFAR-10 Batch 5:  Loss is 0.1025 Accuracy is 0.6524\n",
      "Epoch 28, CIFAR-10 Batch 1:  Loss is 0.1486 Accuracy is 0.6444\n",
      "Epoch 28, CIFAR-10 Batch 2:  Loss is 0.0923 Accuracy is 0.6498\n",
      "Epoch 28, CIFAR-10 Batch 3:  Loss is 0.0723 Accuracy is 0.6462\n",
      "Epoch 28, CIFAR-10 Batch 4:  Loss is 0.1261 Accuracy is 0.6514\n",
      "Epoch 28, CIFAR-10 Batch 5:  Loss is 0.0876 Accuracy is 0.6462\n",
      "Epoch 29, CIFAR-10 Batch 1:  Loss is 0.1300 Accuracy is 0.6444\n",
      "Epoch 29, CIFAR-10 Batch 2:  Loss is 0.0918 Accuracy is 0.6432\n",
      "Epoch 29, CIFAR-10 Batch 3:  Loss is 0.0848 Accuracy is 0.6542\n",
      "Epoch 29, CIFAR-10 Batch 4:  Loss is 0.0826 Accuracy is 0.6460\n",
      "Epoch 29, CIFAR-10 Batch 5:  Loss is 0.0959 Accuracy is 0.6532\n",
      "Epoch 30, CIFAR-10 Batch 1:  Loss is 0.1199 Accuracy is 0.6418\n",
      "Epoch 30, CIFAR-10 Batch 2:  Loss is 0.0732 Accuracy is 0.6370\n",
      "Epoch 30, CIFAR-10 Batch 3:  Loss is 0.0550 Accuracy is 0.6488\n",
      "Epoch 30, CIFAR-10 Batch 4:  Loss is 0.1371 Accuracy is 0.6464\n",
      "Epoch 30, CIFAR-10 Batch 5:  Loss is 0.1157 Accuracy is 0.6486\n",
      "Epoch 31, CIFAR-10 Batch 1:  Loss is 0.1217 Accuracy is 0.6418\n",
      "Epoch 31, CIFAR-10 Batch 2:  Loss is 0.0745 Accuracy is 0.6362\n",
      "Epoch 31, CIFAR-10 Batch 3:  Loss is 0.0504 Accuracy is 0.6596\n",
      "Epoch 31, CIFAR-10 Batch 4:  Loss is 0.1169 Accuracy is 0.6546\n",
      "Epoch 31, CIFAR-10 Batch 5:  Loss is 0.0966 Accuracy is 0.6494\n",
      "Epoch 32, CIFAR-10 Batch 1:  Loss is 0.1169 Accuracy is 0.6320\n",
      "Epoch 32, CIFAR-10 Batch 2:  Loss is 0.0911 Accuracy is 0.6364\n",
      "Epoch 32, CIFAR-10 Batch 3:  Loss is 0.0549 Accuracy is 0.6550\n",
      "Epoch 32, CIFAR-10 Batch 4:  Loss is 0.0876 Accuracy is 0.6402\n",
      "Epoch 32, CIFAR-10 Batch 5:  Loss is 0.0791 Accuracy is 0.6438\n",
      "Epoch 33, CIFAR-10 Batch 1:  Loss is 0.1347 Accuracy is 0.6350\n",
      "Epoch 33, CIFAR-10 Batch 2:  Loss is 0.0708 Accuracy is 0.6474\n",
      "Epoch 33, CIFAR-10 Batch 3:  Loss is 0.0530 Accuracy is 0.6438\n",
      "Epoch 33, CIFAR-10 Batch 4:  Loss is 0.0874 Accuracy is 0.6542\n",
      "Epoch 33, CIFAR-10 Batch 5:  Loss is 0.0814 Accuracy is 0.6462\n",
      "Epoch 34, CIFAR-10 Batch 1:  Loss is 0.1005 Accuracy is 0.6422\n",
      "Epoch 34, CIFAR-10 Batch 2:  Loss is 0.0720 Accuracy is 0.6386\n",
      "Epoch 34, CIFAR-10 Batch 3:  Loss is 0.0414 Accuracy is 0.6400\n",
      "Epoch 34, CIFAR-10 Batch 4:  Loss is 0.0819 Accuracy is 0.6432\n",
      "Epoch 34, CIFAR-10 Batch 5:  Loss is 0.0703 Accuracy is 0.6456\n",
      "Epoch 35, CIFAR-10 Batch 1:  Loss is 0.0955 Accuracy is 0.6432\n",
      "Epoch 35, CIFAR-10 Batch 2:  Loss is 0.0689 Accuracy is 0.6416\n",
      "Epoch 35, CIFAR-10 Batch 3:  Loss is 0.0421 Accuracy is 0.6516\n",
      "Epoch 35, CIFAR-10 Batch 4:  Loss is 0.0805 Accuracy is 0.6590\n",
      "Epoch 35, CIFAR-10 Batch 5:  Loss is 0.0672 Accuracy is 0.6380\n",
      "Epoch 36, CIFAR-10 Batch 1:  Loss is 0.0869 Accuracy is 0.6370\n",
      "Epoch 36, CIFAR-10 Batch 2:  Loss is 0.0611 Accuracy is 0.6416\n",
      "Epoch 36, CIFAR-10 Batch 3:  Loss is 0.0629 Accuracy is 0.6500\n",
      "Epoch 36, CIFAR-10 Batch 4:  Loss is 0.0830 Accuracy is 0.6466\n",
      "Epoch 36, CIFAR-10 Batch 5:  Loss is 0.0627 Accuracy is 0.6478\n",
      "Epoch 37, CIFAR-10 Batch 1:  Loss is 0.0874 Accuracy is 0.6416\n",
      "Epoch 37, CIFAR-10 Batch 2:  Loss is 0.0574 Accuracy is 0.6470\n",
      "Epoch 37, CIFAR-10 Batch 3:  Loss is 0.0507 Accuracy is 0.6448\n",
      "Epoch 37, CIFAR-10 Batch 4:  Loss is 0.1108 Accuracy is 0.6452\n",
      "Epoch 37, CIFAR-10 Batch 5:  Loss is 0.0536 Accuracy is 0.6496\n",
      "Epoch 38, CIFAR-10 Batch 1:  Loss is 0.0807 Accuracy is 0.6472\n",
      "Epoch 38, CIFAR-10 Batch 2:  Loss is 0.0639 Accuracy is 0.6486\n",
      "Epoch 38, CIFAR-10 Batch 3:  Loss is 0.0448 Accuracy is 0.6440\n",
      "Epoch 38, CIFAR-10 Batch 4:  Loss is 0.0853 Accuracy is 0.6500\n",
      "Epoch 38, CIFAR-10 Batch 5:  Loss is 0.0566 Accuracy is 0.6456\n",
      "Epoch 39, CIFAR-10 Batch 1:  Loss is 0.0821 Accuracy is 0.6330\n",
      "Epoch 39, CIFAR-10 Batch 2:  Loss is 0.0512 Accuracy is 0.6352\n",
      "Epoch 39, CIFAR-10 Batch 3:  Loss is 0.0408 Accuracy is 0.6498\n",
      "Epoch 39, CIFAR-10 Batch 4:  Loss is 0.0692 Accuracy is 0.6406\n",
      "Epoch 39, CIFAR-10 Batch 5:  Loss is 0.0610 Accuracy is 0.6424\n",
      "Epoch 40, CIFAR-10 Batch 1:  Loss is 0.0871 Accuracy is 0.6474\n",
      "Epoch 40, CIFAR-10 Batch 2:  Loss is 0.0438 Accuracy is 0.6314\n",
      "Epoch 40, CIFAR-10 Batch 3:  Loss is 0.0305 Accuracy is 0.6426\n",
      "Epoch 40, CIFAR-10 Batch 4:  Loss is 0.0660 Accuracy is 0.6436\n",
      "Epoch 40, CIFAR-10 Batch 5:  Loss is 0.0416 Accuracy is 0.6426\n",
      "Epoch 41, CIFAR-10 Batch 1:  Loss is 0.0667 Accuracy is 0.6406\n",
      "Epoch 41, CIFAR-10 Batch 2:  Loss is 0.0409 Accuracy is 0.6324\n",
      "Epoch 41, CIFAR-10 Batch 3:  Loss is 0.0322 Accuracy is 0.6330\n",
      "Epoch 41, CIFAR-10 Batch 4:  Loss is 0.0711 Accuracy is 0.6424\n",
      "Epoch 41, CIFAR-10 Batch 5:  Loss is 0.0414 Accuracy is 0.6490\n",
      "Epoch 42, CIFAR-10 Batch 1:  Loss is 0.0720 Accuracy is 0.6422\n",
      "Epoch 42, CIFAR-10 Batch 2:  Loss is 0.0551 Accuracy is 0.6368\n",
      "Epoch 42, CIFAR-10 Batch 3:  Loss is 0.0366 Accuracy is 0.6368\n",
      "Epoch 42, CIFAR-10 Batch 4:  Loss is 0.0705 Accuracy is 0.6488\n",
      "Epoch 42, CIFAR-10 Batch 5:  Loss is 0.0501 Accuracy is 0.6440\n",
      "Epoch 43, CIFAR-10 Batch 1:  Loss is 0.0853 Accuracy is 0.6302\n",
      "Epoch 43, CIFAR-10 Batch 2:  Loss is 0.0554 Accuracy is 0.6442\n",
      "Epoch 43, CIFAR-10 Batch 3:  Loss is 0.0252 Accuracy is 0.6408\n",
      "Epoch 43, CIFAR-10 Batch 4:  Loss is 0.0628 Accuracy is 0.6374\n",
      "Epoch 43, CIFAR-10 Batch 5:  Loss is 0.0384 Accuracy is 0.6478\n",
      "Epoch 44, CIFAR-10 Batch 1:  Loss is 0.0760 Accuracy is 0.6398\n",
      "Epoch 44, CIFAR-10 Batch 2:  Loss is 0.0447 Accuracy is 0.6372\n",
      "Epoch 44, CIFAR-10 Batch 3:  Loss is 0.0322 Accuracy is 0.6418\n",
      "Epoch 44, CIFAR-10 Batch 4:  Loss is 0.0540 Accuracy is 0.6466\n",
      "Epoch 44, CIFAR-10 Batch 5:  Loss is 0.0395 Accuracy is 0.6426\n",
      "Epoch 45, CIFAR-10 Batch 1:  Loss is 0.0531 Accuracy is 0.6510\n",
      "Epoch 45, CIFAR-10 Batch 2:  Loss is 0.0472 Accuracy is 0.6334\n",
      "Epoch 45, CIFAR-10 Batch 3:  Loss is 0.0301 Accuracy is 0.6352\n",
      "Epoch 45, CIFAR-10 Batch 4:  Loss is 0.0553 Accuracy is 0.6466\n",
      "Epoch 45, CIFAR-10 Batch 5:  Loss is 0.0445 Accuracy is 0.6432\n",
      "Epoch 46, CIFAR-10 Batch 1:  Loss is 0.0624 Accuracy is 0.6430\n",
      "Epoch 46, CIFAR-10 Batch 2:  Loss is 0.0462 Accuracy is 0.6256\n",
      "Epoch 46, CIFAR-10 Batch 3:  Loss is 0.0284 Accuracy is 0.6326\n",
      "Epoch 46, CIFAR-10 Batch 4:  Loss is 0.0694 Accuracy is 0.6450\n",
      "Epoch 46, CIFAR-10 Batch 5:  Loss is 0.0394 Accuracy is 0.6476\n",
      "Epoch 47, CIFAR-10 Batch 1:  Loss is 0.0645 Accuracy is 0.6420\n",
      "Epoch 47, CIFAR-10 Batch 2:  Loss is 0.0550 Accuracy is 0.6274\n",
      "Epoch 47, CIFAR-10 Batch 3:  Loss is 0.0211 Accuracy is 0.6386\n",
      "Epoch 47, CIFAR-10 Batch 4:  Loss is 0.0365 Accuracy is 0.6468\n",
      "Epoch 47, CIFAR-10 Batch 5:  Loss is 0.0362 Accuracy is 0.6462\n",
      "Epoch 48, CIFAR-10 Batch 1:  Loss is 0.0500 Accuracy is 0.6410\n",
      "Epoch 48, CIFAR-10 Batch 2:  Loss is 0.0278 Accuracy is 0.6422\n",
      "Epoch 48, CIFAR-10 Batch 3:  Loss is 0.0302 Accuracy is 0.6408\n",
      "Epoch 48, CIFAR-10 Batch 4:  Loss is 0.0385 Accuracy is 0.6446\n",
      "Epoch 48, CIFAR-10 Batch 5:  Loss is 0.0302 Accuracy is 0.6488\n",
      "Epoch 49, CIFAR-10 Batch 1:  Loss is 0.0437 Accuracy is 0.6370\n",
      "Epoch 49, CIFAR-10 Batch 2:  Loss is 0.0371 Accuracy is 0.6388\n",
      "Epoch 49, CIFAR-10 Batch 3:  Loss is 0.0221 Accuracy is 0.6462\n",
      "Epoch 49, CIFAR-10 Batch 4:  Loss is 0.0330 Accuracy is 0.6490\n",
      "Epoch 49, CIFAR-10 Batch 5:  Loss is 0.0236 Accuracy is 0.6468\n",
      "Epoch 50, CIFAR-10 Batch 1:  Loss is 0.0626 Accuracy is 0.6406\n",
      "Epoch 50, CIFAR-10 Batch 2:  Loss is 0.0232 Accuracy is 0.6416\n",
      "Epoch 50, CIFAR-10 Batch 3:  Loss is 0.0215 Accuracy is 0.6436\n",
      "Epoch 50, CIFAR-10 Batch 4:  Loss is 0.0314 Accuracy is 0.6450\n",
      "Epoch 50, CIFAR-10 Batch 5:  Loss is 0.0413 Accuracy is 0.6422\n"
     ]
    }
   ],
   "source": [
    "\"\"\"\n",
    "DON'T MODIFY ANYTHING IN THIS CELL\n",
    "\"\"\"\n",
    "save_model_path = './image_classification'\n",
    "\n",
    "print('Training...')\n",
    "with tf.Session() as sess:\n",
    "    # Initializing the variables\n",
    "    sess.run(tf.global_variables_initializer())\n",
    "    \n",
    "    # Training cycle\n",
    "    for epoch in range(epochs):\n",
    "        # Loop over all batches\n",
    "        n_batches = 5\n",
    "        for batch_i in range(1, n_batches + 1):\n",
    "            for batch_features, batch_labels in helper.load_preprocess_training_batch(batch_i, batch_size):\n",
    "                train_neural_network(sess, optimizer, keep_probability, batch_features, batch_labels)\n",
    "            print('Epoch {:>2}, CIFAR-10 Batch {}:  '.format(epoch + 1, batch_i), end='')\n",
    "            print_stats(sess, batch_features, batch_labels, cost, accuracy)\n",
    "            \n",
    "    # Save Model\n",
    "    saver = tf.train.Saver()\n",
    "    save_path = saver.save(sess, save_model_path)"
   ]
  },
  {
   "cell_type": "markdown",
   "metadata": {},
   "source": [
    "# Checkpoint\n",
    "The model has been saved to disk.\n",
    "## Test Model\n",
    "Test your model against the test dataset.  This will be your final accuracy. You should have an accuracy greater than 50%. If you don't, keep tweaking the model architecture and parameters."
   ]
  },
  {
   "cell_type": "code",
   "execution_count": 50,
   "metadata": {},
   "outputs": [
    {
     "name": "stdout",
     "output_type": "stream",
     "text": [
      "INFO:tensorflow:Restoring parameters from ./image_classification\n",
      "Testing Accuracy: 0.6464596518987342\n",
      "\n"
     ]
    },
    {
     "data": {
      "image/png": "[encoded data removed]",
      "text/plain": [
       "<matplotlib.figure.Figure at 0x7fe21f789c88>"
      ]
     },
     "metadata": {
      "image/png": {
       "height": 319,
       "width": 355
      }
     },
     "output_type": "display_data"
    }
   ],
   "source": [
    "\"\"\"\n",
    "DON'T MODIFY ANYTHING IN THIS CELL\n",
    "\"\"\"\n",
    "%matplotlib inline\n",
    "%config InlineBackend.figure_format = 'retina'\n",
    "\n",
    "import tensorflow as tf\n",
    "import pickle\n",
    "import helper\n",
    "import random\n",
    "\n",
    "# Set batch size if not already set\n",
    "try:\n",
    "    if batch_size:\n",
    "        pass\n",
    "except NameError:\n",
    "    batch_size = 64\n",
    "\n",
    "save_model_path = './image_classification'\n",
    "n_samples = 4\n",
    "top_n_predictions = 3\n",
    "\n",
    "def test_model():\n",
    "    \"\"\"\n",
    "    Test the saved model against the test dataset\n",
    "    \"\"\"\n",
    "\n",
    "    test_features, test_labels = pickle.load(open('preprocess_training.p', mode='rb'))\n",
    "    loaded_graph = tf.Graph()\n",
    "\n",
    "    with tf.Session(graph=loaded_graph) as sess:\n",
    "        # Load model\n",
    "        loader = tf.train.import_meta_graph(save_model_path + '.meta')\n",
    "        loader.restore(sess, save_model_path)\n",
    "\n",
    "        # Get Tensors from loaded model\n",
    "        loaded_x = loaded_graph.get_tensor_by_name('x:0')\n",
    "        loaded_y = loaded_graph.get_tensor_by_name('y:0')\n",
    "        loaded_keep_prob = loaded_graph.get_tensor_by_name('keep_prob:0')\n",
    "        loaded_logits = loaded_graph.get_tensor_by_name('logits:0')\n",
    "        loaded_acc = loaded_graph.get_tensor_by_name('accuracy:0')\n",
    "        \n",
    "        # Get accuracy in batches for memory limitations\n",
    "        test_batch_acc_total = 0\n",
    "        test_batch_count = 0\n",
    "        \n",
    "        for train_feature_batch, train_label_batch in helper.batch_features_labels(test_features, test_labels, batch_size):\n",
    "            test_batch_acc_total += sess.run(\n",
    "                loaded_acc,\n",
    "                feed_dict={loaded_x: train_feature_batch, loaded_y: train_label_batch, loaded_keep_prob: 1.0})\n",
    "            test_batch_count += 1\n",
    "\n",
    "        print('Testing Accuracy: {}\\n'.format(test_batch_acc_total/test_batch_count))\n",
    "\n",
    "        # Print Random Samples\n",
    "        random_test_features, random_test_labels = tuple(zip(*random.sample(list(zip(test_features, test_labels)), n_samples)))\n",
    "        random_test_predictions = sess.run(\n",
    "            tf.nn.top_k(tf.nn.softmax(loaded_logits), top_n_predictions),\n",
    "            feed_dict={loaded_x: random_test_features, loaded_y: random_test_labels, loaded_keep_prob: 1.0})\n",
    "        helper.display_image_predictions(random_test_features, random_test_labels, random_test_predictions)\n",
    "\n",
    "\n",
    "test_model()"
   ]
  },
  {
   "cell_type": "markdown",
   "metadata": {},
   "source": [
    "## Why 50-70% Accuracy?\n",
    "You might be wondering why you can't get an accuracy any higher. First things first, 50% isn't bad for a simple CNN.  Pure guessing would get you 10% accuracy. However, you might notice people are getting scores [well above 70%](http://rodrigob.github.io/are_we_there_yet/build/classification_datasets_results.html#43494641522d3130).  That's because we haven't taught you all there is to know about neural networks. We still need to cover a few more techniques.\n",
    "## Submitting This Project\n",
    "When submitting this project, make sure to run all the cells before saving the notebook.  Save the notebook file as \"dlnd_image_classification.ipynb\" and save it as a HTML file under \"File\" -> \"Download as\".  Include the \"helper.py\" and \"problem_unittests.py\" files in your submission."
   ]
  }
 ],
 "metadata": {
  "kernelspec": {
   "display_name": "Python 3",
   "language": "python",
   "name": "python3"
  },
  "language_info": {
   "codemirror_mode": {
    "name": "ipython",
    "version": 3
   },
   "file_extension": ".py",
   "mimetype": "text/x-python",
   "name": "python",
   "nbconvert_exporter": "python",
   "pygments_lexer": "ipython3",
   "version": "3.5.3"
  }
 },
 "nbformat": 4,
 "nbformat_minor": 1
}
