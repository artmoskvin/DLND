{
 "cells": [
  {
   "cell_type": "markdown",
   "metadata": {
    "collapsed": true
   },
   "source": [
    "# Image Classification\n",
    "In this project, you'll classify images from the [CIFAR-10 dataset](https://www.cs.toronto.edu/~kriz/cifar.html).  The dataset consists of airplanes, dogs, cats, and other objects. You'll preprocess the images, then train a convolutional neural network on all the samples. The images need to be normalized and the labels need to be one-hot encoded.  You'll get to apply what you learned and build a convolutional, max pooling, dropout, and fully connected layers.  At the end, you'll get to see your neural network's predictions on the sample images.\n",
    "## Get the Data\n",
    "Run the following cell to download the [CIFAR-10 dataset for python](https://www.cs.toronto.edu/~kriz/cifar-10-python.tar.gz)."
   ]
  },
  {
   "cell_type": "code",
   "execution_count": 1,
   "metadata": {},
   "outputs": [
    {
     "name": "stdout",
     "output_type": "stream",
     "text": [
      "All files found!\n"
     ]
    }
   ],
   "source": [
    "\"\"\"\n",
    "DON'T MODIFY ANYTHING IN THIS CELL THAT IS BELOW THIS LINE\n",
    "\"\"\"\n",
    "from urllib.request import urlretrieve\n",
    "from os.path import isfile, isdir\n",
    "from tqdm import tqdm\n",
    "import problem_unittests as tests\n",
    "import tarfile\n",
    "\n",
    "cifar10_dataset_folder_path = 'cifar-10-batches-py'\n",
    "\n",
    "# Use Floyd's cifar-10 dataset if present\n",
    "floyd_cifar10_location = '/input/cifar-10/python.tar.gz'\n",
    "if isfile(floyd_cifar10_location):\n",
    "    tar_gz_path = floyd_cifar10_location\n",
    "else:\n",
    "    tar_gz_path = 'cifar-10-python.tar.gz'\n",
    "\n",
    "class DLProgress(tqdm):\n",
    "    last_block = 0\n",
    "\n",
    "    def hook(self, block_num=1, block_size=1, total_size=None):\n",
    "        self.total = total_size\n",
    "        self.update((block_num - self.last_block) * block_size)\n",
    "        self.last_block = block_num\n",
    "\n",
    "if not isfile(tar_gz_path):\n",
    "    with DLProgress(unit='B', unit_scale=True, miniters=1, desc='CIFAR-10 Dataset') as pbar:\n",
    "        urlretrieve(\n",
    "            'https://www.cs.toronto.edu/~kriz/cifar-10-python.tar.gz',\n",
    "            tar_gz_path,\n",
    "            pbar.hook)\n",
    "\n",
    "if not isdir(cifar10_dataset_folder_path):\n",
    "    with tarfile.open(tar_gz_path) as tar:\n",
    "        tar.extractall()\n",
    "        tar.close()\n",
    "\n",
    "\n",
    "tests.test_folder_path(cifar10_dataset_folder_path)"
   ]
  },
  {
   "cell_type": "markdown",
   "metadata": {},
   "source": [
    "## Explore the Data\n",
    "The dataset is broken into batches to prevent your machine from running out of memory.  The CIFAR-10 dataset consists of 5 batches, named `data_batch_1`, `data_batch_2`, etc.. Each batch contains the labels and images that are one of the following:\n",
    "* airplane\n",
    "* automobile\n",
    "* bird\n",
    "* cat\n",
    "* deer\n",
    "* dog\n",
    "* frog\n",
    "* horse\n",
    "* ship\n",
    "* truck\n",
    "\n",
    "Understanding a dataset is part of making predictions on the data.  Play around with the code cell below by changing the `batch_id` and `sample_id`. The `batch_id` is the id for a batch (1-5). The `sample_id` is the id for a image and label pair in the batch.\n",
    "\n",
    "Ask yourself \"What are all possible labels?\", \"What is the range of values for the image data?\", \"Are the labels in order or random?\".  Answers to questions like these will help you preprocess the data and end up with better predictions."
   ]
  },
  {
   "cell_type": "code",
   "execution_count": 2,
   "metadata": {},
   "outputs": [
    {
     "name": "stdout",
     "output_type": "stream",
     "text": [
      "\n",
      "Stats of batch 2:\n",
      "Samples: 10000\n",
      "Label Counts: {0: 984, 1: 1007, 2: 1010, 3: 995, 4: 1010, 5: 988, 6: 1008, 7: 1026, 8: 987, 9: 985}\n",
      "First 20 Labels: [1, 6, 6, 8, 8, 3, 4, 6, 0, 6, 0, 3, 6, 6, 5, 4, 8, 3, 2, 6]\n",
      "\n",
      "Example of Image 8:\n",
      "Image - Min Value: 31 Max Value: 255\n",
      "Image - Shape: (32, 32, 3)\n",
      "Label - Label Id: 0 Name: airplane\n"
     ]
    },
    {
     "data": {
      "image/png": "[encoded data removed]",
      "text/plain": [
       "<matplotlib.figure.Figure at 0x7f6d108537b8>"
      ]
     },
     "metadata": {
      "image/png": {
       "height": 250,
       "width": 253
      }
     },
     "output_type": "display_data"
    }
   ],
   "source": [
    "%matplotlib inline\n",
    "%config InlineBackend.figure_format = 'retina'\n",
    "\n",
    "import helper\n",
    "import numpy as np\n",
    "\n",
    "# Explore the dataset\n",
    "batch_id = 2\n",
    "sample_id = 8\n",
    "helper.display_stats(cifar10_dataset_folder_path, batch_id, sample_id)"
   ]
  },
  {
   "cell_type": "markdown",
   "metadata": {},
   "source": [
    "## Implement Preprocess Functions\n",
    "### Normalize\n",
    "In the cell below, implement the `normalize` function to take in image data, `x`, and return it as a normalized Numpy array. The values should be in the range of 0 to 1, inclusive.  The return object should be the same shape as `x`."
   ]
  },
  {
   "cell_type": "code",
   "execution_count": 3,
   "metadata": {},
   "outputs": [
    {
     "name": "stdout",
     "output_type": "stream",
     "text": [
      "Tests Passed\n"
     ]
    }
   ],
   "source": [
    "def normalize(x):\n",
    "    \"\"\"\n",
    "    Normalize a list of sample image data in the range of 0 to 1\n",
    "    : x: List of image data.  The image shape is (32, 32, 3)\n",
    "    : return: Numpy array of normalize data\n",
    "    \"\"\"\n",
    "    # TODO: Implement Function\n",
    "    return np.array(x) / 255\n",
    "\n",
    "\n",
    "\"\"\"\n",
    "DON'T MODIFY ANYTHING IN THIS CELL THAT IS BELOW THIS LINE\n",
    "\"\"\"\n",
    "tests.test_normalize(normalize)"
   ]
  },
  {
   "cell_type": "markdown",
   "metadata": {},
   "source": [
    "### One-hot encode\n",
    "Just like the previous code cell, you'll be implementing a function for preprocessing.  This time, you'll implement the `one_hot_encode` function. The input, `x`, are a list of labels.  Implement the function to return the list of labels as One-Hot encoded Numpy array.  The possible values for labels are 0 to 9. The one-hot encoding function should return the same encoding for each value between each call to `one_hot_encode`.  Make sure to save the map of encodings outside the function.\n",
    "\n",
    "Hint: Don't reinvent the wheel."
   ]
  },
  {
   "cell_type": "code",
   "execution_count": 6,
   "metadata": {},
   "outputs": [
    {
     "name": "stdout",
     "output_type": "stream",
     "text": [
      "Tests Passed\n"
     ]
    }
   ],
   "source": [
    "def one_hot_encode(x):\n",
    "    \"\"\"\n",
    "    One hot encode a list of sample labels. Return a one-hot encoded vector for each label.\n",
    "    : x: List of sample Labels\n",
    "    : return: Numpy array of one-hot encoded labels\n",
    "    \"\"\"\n",
    "    # TODO: Implement Function\n",
    "    return np.eye(10)[x]\n",
    "\n",
    "\n",
    "\"\"\"\n",
    "DON'T MODIFY ANYTHING IN THIS CELL THAT IS BELOW THIS LINE\n",
    "\"\"\"\n",
    "tests.test_one_hot_encode(one_hot_encode)"
   ]
  },
  {
   "cell_type": "markdown",
   "metadata": {},
   "source": [
    "### Randomize Data\n",
    "As you saw from exploring the data above, the order of the samples are randomized.  It doesn't hurt to randomize it again, but you don't need to for this dataset."
   ]
  },
  {
   "cell_type": "markdown",
   "metadata": {},
   "source": [
    "## Preprocess all the data and save it\n",
    "Running the code cell below will preprocess all the CIFAR-10 data and save it to file. The code below also uses 10% of the training data for validation."
   ]
  },
  {
   "cell_type": "code",
   "execution_count": 7,
   "metadata": {
    "collapsed": true
   },
   "outputs": [],
   "source": [
    "\"\"\"\n",
    "DON'T MODIFY ANYTHING IN THIS CELL\n",
    "\"\"\"\n",
    "# Preprocess Training, Validation, and Testing Data\n",
    "helper.preprocess_and_save_data(cifar10_dataset_folder_path, normalize, one_hot_encode)"
   ]
  },
  {
   "cell_type": "markdown",
   "metadata": {},
   "source": [
    "# Check Point\n",
    "This is your first checkpoint.  If you ever decide to come back to this notebook or have to restart the notebook, you can start from here.  The preprocessed data has been saved to disk."
   ]
  },
  {
   "cell_type": "code",
   "execution_count": 8,
   "metadata": {
    "collapsed": true
   },
   "outputs": [],
   "source": [
    "\"\"\"\n",
    "DON'T MODIFY ANYTHING IN THIS CELL\n",
    "\"\"\"\n",
    "import pickle\n",
    "import problem_unittests as tests\n",
    "import helper\n",
    "\n",
    "# Load the Preprocessed Validation data\n",
    "valid_features, valid_labels = pickle.load(open('preprocess_validation.p', mode='rb'))"
   ]
  },
  {
   "cell_type": "markdown",
   "metadata": {},
   "source": [
    "## Build the network\n",
    "For the neural network, you'll build each layer into a function.  Most of the code you've seen has been outside of functions. To test your code more thoroughly, we require that you put each layer in a function.  This allows us to give you better feedback and test for simple mistakes using our unittests before you submit your project.\n",
    "\n",
    ">**Note:** If you're finding it hard to dedicate enough time for this course each week, we've provided a small shortcut to this part of the project. In the next couple of problems, you'll have the option to use classes from the [TensorFlow Layers](https://www.tensorflow.org/api_docs/python/tf/layers) or [TensorFlow Layers (contrib)](https://www.tensorflow.org/api_guides/python/contrib.layers) packages to build each layer, except the layers you build in the \"Convolutional and Max Pooling Layer\" section.  TF Layers is similar to Keras's and TFLearn's abstraction to layers, so it's easy to pickup.\n",
    "\n",
    ">However, if you would like to get the most out of this course, try to solve all the problems _without_ using anything from the TF Layers packages. You **can** still use classes from other packages that happen to have the same name as ones you find in TF Layers! For example, instead of using the TF Layers version of the `conv2d` class, [tf.layers.conv2d](https://www.tensorflow.org/api_docs/python/tf/layers/conv2d), you would want to use the TF Neural Network version of `conv2d`, [tf.nn.conv2d](https://www.tensorflow.org/api_docs/python/tf/nn/conv2d). \n",
    "\n",
    "Let's begin!\n",
    "\n",
    "### Input\n",
    "The neural network needs to read the image data, one-hot encoded labels, and dropout keep probability. Implement the following functions\n",
    "* Implement `neural_net_image_input`\n",
    " * Return a [TF Placeholder](https://www.tensorflow.org/api_docs/python/tf/placeholder)\n",
    " * Set the shape using `image_shape` with batch size set to `None`.\n",
    " * Name the TensorFlow placeholder \"x\" using the TensorFlow `name` parameter in the [TF Placeholder](https://www.tensorflow.org/api_docs/python/tf/placeholder).\n",
    "* Implement `neural_net_label_input`\n",
    " * Return a [TF Placeholder](https://www.tensorflow.org/api_docs/python/tf/placeholder)\n",
    " * Set the shape using `n_classes` with batch size set to `None`.\n",
    " * Name the TensorFlow placeholder \"y\" using the TensorFlow `name` parameter in the [TF Placeholder](https://www.tensorflow.org/api_docs/python/tf/placeholder).\n",
    "* Implement `neural_net_keep_prob_input`\n",
    " * Return a [TF Placeholder](https://www.tensorflow.org/api_docs/python/tf/placeholder) for dropout keep probability.\n",
    " * Name the TensorFlow placeholder \"keep_prob\" using the TensorFlow `name` parameter in the [TF Placeholder](https://www.tensorflow.org/api_docs/python/tf/placeholder).\n",
    "\n",
    "These names will be used at the end of the project to load your saved model.\n",
    "\n",
    "Note: `None` for shapes in TensorFlow allow for a dynamic size."
   ]
  },
  {
   "cell_type": "code",
   "execution_count": 9,
   "metadata": {},
   "outputs": [
    {
     "name": "stdout",
     "output_type": "stream",
     "text": [
      "Image Input Tests Passed.\n",
      "Label Input Tests Passed.\n",
      "Keep Prob Tests Passed.\n"
     ]
    }
   ],
   "source": [
    "import tensorflow as tf\n",
    "\n",
    "def neural_net_image_input(image_shape):\n",
    "    \"\"\"\n",
    "    Return a Tensor for a batch of image input\n",
    "    : image_shape: Shape of the images\n",
    "    : return: Tensor for image input.\n",
    "    \"\"\"\n",
    "    # TODO: Implement Function\n",
    "    return tf.placeholder(tf.float32, shape=(None, *image_shape), name='x')\n",
    "\n",
    "\n",
    "def neural_net_label_input(n_classes):\n",
    "    \"\"\"\n",
    "    Return a Tensor for a batch of label input\n",
    "    : n_classes: Number of classes\n",
    "    : return: Tensor for label input.\n",
    "    \"\"\"\n",
    "    # TODO: Implement Function\n",
    "    return tf.placeholder(tf.float32, shape=[None, n_classes], name='y')\n",
    "\n",
    "\n",
    "def neural_net_keep_prob_input():\n",
    "    \"\"\"\n",
    "    Return a Tensor for keep probability\n",
    "    : return: Tensor for keep probability.\n",
    "    \"\"\"\n",
    "    # TODO: Implement Function\n",
    "    return tf.placeholder(tf.float32, name='keep_prob')\n",
    "\n",
    "\n",
    "\"\"\"\n",
    "DON'T MODIFY ANYTHING IN THIS CELL THAT IS BELOW THIS LINE\n",
    "\"\"\"\n",
    "tf.reset_default_graph()\n",
    "tests.test_nn_image_inputs(neural_net_image_input)\n",
    "tests.test_nn_label_inputs(neural_net_label_input)\n",
    "tests.test_nn_keep_prob_inputs(neural_net_keep_prob_input)"
   ]
  },
  {
   "cell_type": "markdown",
   "metadata": {},
   "source": [
    "### Convolution and Max Pooling Layer\n",
    "Convolution layers have a lot of success with images. For this code cell, you should implement the function `conv2d_maxpool` to apply convolution then max pooling:\n",
    "* Create the weight and bias using `conv_ksize`, `conv_num_outputs` and the shape of `x_tensor`.\n",
    "* Apply a convolution to `x_tensor` using weight and `conv_strides`.\n",
    " * We recommend you use same padding, but you're welcome to use any padding.\n",
    "* Add bias\n",
    "* Add a nonlinear activation to the convolution.\n",
    "* Apply Max Pooling using `pool_ksize` and `pool_strides`.\n",
    " * We recommend you use same padding, but you're welcome to use any padding.\n",
    "\n",
    "**Note:** You **can't** use [TensorFlow Layers](https://www.tensorflow.org/api_docs/python/tf/layers) or [TensorFlow Layers (contrib)](https://www.tensorflow.org/api_guides/python/contrib.layers) for **this** layer, but you can still use TensorFlow's [Neural Network](https://www.tensorflow.org/api_docs/python/tf/nn) package. You may still use the shortcut option for all the **other** layers."
   ]
  },
  {
   "cell_type": "code",
   "execution_count": 11,
   "metadata": {
    "scrolled": false
   },
   "outputs": [
    {
     "name": "stdout",
     "output_type": "stream",
     "text": [
      "Tests Passed\n"
     ]
    }
   ],
   "source": [
    "def conv2d_maxpool(x_tensor, conv_num_outputs, conv_ksize, conv_strides, pool_ksize, pool_strides):\n",
    "    \"\"\"\n",
    "    Apply convolution then max pooling to x_tensor\n",
    "    :param x_tensor: TensorFlow Tensor\n",
    "    :param conv_num_outputs: Number of outputs for the convolutional layer\n",
    "    :param conv_ksize: kernal size 2-D Tuple for the convolutional layer\n",
    "    :param conv_strides: Stride 2-D Tuple for convolution\n",
    "    :param pool_ksize: kernal size 2-D Tuple for pool\n",
    "    :param pool_strides: Stride 2-D Tuple for pool\n",
    "    : return: A tensor that represents convolution and max pooling of x_tensor\n",
    "    \"\"\"\n",
    "    # TODO: Implement Function\n",
    "    in_channels = int(x_tensor.shape[3])\n",
    "    out_channels = conv_num_outputs\n",
    "    weights = tf.Variable(tf.truncated_normal((*conv_ksize, in_channels, out_channels)))\n",
    "    bias = tf.Variable(tf.zeros(out_channels))\n",
    "    conv_strides = (1, *conv_strides, 1)\n",
    "    conv_layer = tf.nn.conv2d(x_tensor, weights, conv_strides, 'SAME')\n",
    "    conv_layer = tf.nn.bias_add(conv_layer, bias)\n",
    "    conv_layer = tf.nn.relu(conv_layer)\n",
    "    pool_ksize = (1, *pool_ksize, 1)\n",
    "    pool_strides = (1, *pool_strides, 1)\n",
    "    max_pool_layer = tf.nn.max_pool(conv_layer, pool_ksize, pool_strides, 'SAME')\n",
    "    return max_pool_layer \n",
    "\n",
    "\n",
    "\"\"\"\n",
    "DON'T MODIFY ANYTHING IN THIS CELL THAT IS BELOW THIS LINE\n",
    "\"\"\"\n",
    "tests.test_con_pool(conv2d_maxpool)"
   ]
  },
  {
   "cell_type": "markdown",
   "metadata": {},
   "source": [
    "### Flatten Layer\n",
    "Implement the `flatten` function to change the dimension of `x_tensor` from a 4-D tensor to a 2-D tensor.  The output should be the shape (*Batch Size*, *Flattened Image Size*). Shortcut option: you can use classes from the [TensorFlow Layers](https://www.tensorflow.org/api_docs/python/tf/layers) or [TensorFlow Layers (contrib)](https://www.tensorflow.org/api_guides/python/contrib.layers) packages for this layer. For more of a challenge, only use other TensorFlow packages."
   ]
  },
  {
   "cell_type": "code",
   "execution_count": 12,
   "metadata": {},
   "outputs": [
    {
     "name": "stdout",
     "output_type": "stream",
     "text": [
      "Tests Passed\n"
     ]
    }
   ],
   "source": [
    "def flatten(x_tensor):\n",
    "    \"\"\"\n",
    "    Flatten x_tensor to (Batch Size, Flattened Image Size)\n",
    "    : x_tensor: A tensor of size (Batch Size, ...), where ... are the image dimensions.\n",
    "    : return: A tensor of size (Batch Size, Flattened Image Size).\n",
    "    \"\"\"\n",
    "    # TODO: Implement Function\n",
    "    return tf.contrib.layers.flatten(x_tensor)\n",
    "\n",
    "\n",
    "\"\"\"\n",
    "DON'T MODIFY ANYTHING IN THIS CELL THAT IS BELOW THIS LINE\n",
    "\"\"\"\n",
    "tests.test_flatten(flatten)"
   ]
  },
  {
   "cell_type": "markdown",
   "metadata": {},
   "source": [
    "### Fully-Connected Layer\n",
    "Implement the `fully_conn` function to apply a fully connected layer to `x_tensor` with the shape (*Batch Size*, *num_outputs*). Shortcut option: you can use classes from the [TensorFlow Layers](https://www.tensorflow.org/api_docs/python/tf/layers) or [TensorFlow Layers (contrib)](https://www.tensorflow.org/api_guides/python/contrib.layers) packages for this layer. For more of a challenge, only use other TensorFlow packages."
   ]
  },
  {
   "cell_type": "code",
   "execution_count": 13,
   "metadata": {},
   "outputs": [
    {
     "name": "stdout",
     "output_type": "stream",
     "text": [
      "Tests Passed\n"
     ]
    }
   ],
   "source": [
    "def fully_conn(x_tensor, num_outputs):\n",
    "    \"\"\"\n",
    "    Apply a fully connected layer to x_tensor using weight and bias\n",
    "    : x_tensor: A 2-D tensor where the first dimension is batch size.\n",
    "    : num_outputs: The number of output that the new tensor should be.\n",
    "    : return: A 2-D tensor where the second dimension is num_outputs.\n",
    "    \"\"\"\n",
    "    # TODO: Implement Function\n",
    "    return tf.contrib.layers.fully_connected(x_tensor, num_outputs, activation_fn=tf.nn.relu)\n",
    "\n",
    "\n",
    "\"\"\"\n",
    "DON'T MODIFY ANYTHING IN THIS CELL THAT IS BELOW THIS LINE\n",
    "\"\"\"\n",
    "tests.test_fully_conn(fully_conn)"
   ]
  },
  {
   "cell_type": "markdown",
   "metadata": {},
   "source": [
    "### Output Layer\n",
    "Implement the `output` function to apply a fully connected layer to `x_tensor` with the shape (*Batch Size*, *num_outputs*). Shortcut option: you can use classes from the [TensorFlow Layers](https://www.tensorflow.org/api_docs/python/tf/layers) or [TensorFlow Layers (contrib)](https://www.tensorflow.org/api_guides/python/contrib.layers) packages for this layer. For more of a challenge, only use other TensorFlow packages.\n",
    "\n",
    "**Note:** Activation, softmax, or cross entropy should **not** be applied to this."
   ]
  },
  {
   "cell_type": "code",
   "execution_count": 14,
   "metadata": {},
   "outputs": [
    {
     "name": "stdout",
     "output_type": "stream",
     "text": [
      "Tests Passed\n"
     ]
    }
   ],
   "source": [
    "def output(x_tensor, num_outputs):\n",
    "    \"\"\"\n",
    "    Apply a output layer to x_tensor using weight and bias\n",
    "    : x_tensor: A 2-D tensor where the first dimension is batch size.\n",
    "    : num_outputs: The number of output that the new tensor should be.\n",
    "    : return: A 2-D tensor where the second dimension is num_outputs.\n",
    "    \"\"\"\n",
    "    # TODO: Implement Function\n",
    "    return tf.contrib.layers.fully_connected(x_tensor, num_outputs, activation_fn=None)\n",
    "\n",
    "\n",
    "\"\"\"\n",
    "DON'T MODIFY ANYTHING IN THIS CELL THAT IS BELOW THIS LINE\n",
    "\"\"\"\n",
    "tests.test_output(output)"
   ]
  },
  {
   "cell_type": "markdown",
   "metadata": {},
   "source": [
    "### Create Convolutional Model\n",
    "Implement the function `conv_net` to create a convolutional neural network model. The function takes in a batch of images, `x`, and outputs logits.  Use the layers you created above to create this model:\n",
    "\n",
    "* Apply 1, 2, or 3 Convolution and Max Pool layers\n",
    "* Apply a Flatten Layer\n",
    "* Apply 1, 2, or 3 Fully Connected Layers\n",
    "* Apply an Output Layer\n",
    "* Return the output\n",
    "* Apply [TensorFlow's Dropout](https://www.tensorflow.org/api_docs/python/tf/nn/dropout) to one or more layers in the model using `keep_prob`. "
   ]
  },
  {
   "cell_type": "code",
   "execution_count": 54,
   "metadata": {},
   "outputs": [
    {
     "name": "stdout",
     "output_type": "stream",
     "text": [
      "Neural Network Built!\n"
     ]
    }
   ],
   "source": [
    "def conv_net(x, keep_prob):\n",
    "    \"\"\"\n",
    "    Create a convolutional neural network model\n",
    "    : x: Placeholder tensor that holds image data.\n",
    "    : keep_prob: Placeholder tensor that hold dropout keep probability.\n",
    "    : return: Tensor that represents logits\n",
    "    \"\"\"\n",
    "    # TODO: Apply 1, 2, or 3 Convolution and Max Pool layers\n",
    "    #    Play around with different number of outputs, kernel size and stride\n",
    "    # Function Definition from Above:\n",
    "    #    conv2d_maxpool(x_tensor, conv_num_outputs, conv_ksize, conv_strides, pool_ksize, pool_strides)\n",
    "    layer_1 = conv2d_maxpool(x, 64, (3,3), (1,1), (2,2), (2,2))\n",
    "#     layer_2 = conv2d_maxpool(layer_1, 128, (3,3), (1,1), (2,2), (2,2))\n",
    "\n",
    "    # TODO: Apply a Flatten Layer\n",
    "    # Function Definition from Above:\n",
    "    #   flatten(x_tensor)\n",
    "    flatten_layer = flatten(layer_1)\n",
    "\n",
    "    # TODO: Apply 1, 2, or 3 Fully Connected Layers\n",
    "    #    Play around with different number of outputs\n",
    "    # Function Definition from Above:\n",
    "    #   fully_conn(x_tensor, num_outputs)\n",
    "    fully_conn_layer_1 = fully_conn(flatten_layer, 128)\n",
    "#     fully_conn_layer_1 = tf.nn.dropout(fully_conn_layer_1, keep_prob)\n",
    "    fully_conn_layer_2 = fully_conn(fully_conn_layer_1, 64)\n",
    "    fully_conn_layer_2 = tf.nn.dropout(fully_conn_layer_1, keep_prob)\n",
    "    \n",
    "    # TODO: Apply an Output Layer\n",
    "    #    Set this to the number of classes\n",
    "    # Function Definition from Above:\n",
    "    #   output(x_tensor, num_outputs)\n",
    "    output_layer = output(fully_conn_layer_1, 10)\n",
    "    \n",
    "    # TODO: return output\n",
    "    return output_layer\n",
    "\n",
    "\n",
    "\"\"\"\n",
    "DON'T MODIFY ANYTHING IN THIS CELL THAT IS BELOW THIS LINE\n",
    "\"\"\"\n",
    "\n",
    "##############################\n",
    "## Build the Neural Network ##\n",
    "##############################\n",
    "\n",
    "# Remove previous weights, bias, inputs, etc..\n",
    "tf.reset_default_graph()\n",
    "\n",
    "# Inputs\n",
    "x = neural_net_image_input((32, 32, 3))\n",
    "y = neural_net_label_input(10)\n",
    "keep_prob = neural_net_keep_prob_input()\n",
    "\n",
    "# Model\n",
    "logits = conv_net(x, keep_prob)\n",
    "\n",
    "# Name logits Tensor, so that is can be loaded from disk after training\n",
    "logits = tf.identity(logits, name='logits')\n",
    "\n",
    "# Loss and Optimizer\n",
    "cost = tf.reduce_mean(tf.nn.softmax_cross_entropy_with_logits(logits=logits, labels=y))\n",
    "optimizer = tf.train.AdamOptimizer().minimize(cost)\n",
    "\n",
    "# Accuracy\n",
    "correct_pred = tf.equal(tf.argmax(logits, 1), tf.argmax(y, 1))\n",
    "accuracy = tf.reduce_mean(tf.cast(correct_pred, tf.float32), name='accuracy')\n",
    "\n",
    "tests.test_conv_net(conv_net)"
   ]
  },
  {
   "cell_type": "markdown",
   "metadata": {},
   "source": [
    "## Train the Neural Network\n",
    "### Single Optimization\n",
    "Implement the function `train_neural_network` to do a single optimization.  The optimization should use `optimizer` to optimize in `session` with a `feed_dict` of the following:\n",
    "* `x` for image input\n",
    "* `y` for labels\n",
    "* `keep_prob` for keep probability for dropout\n",
    "\n",
    "This function will be called for each batch, so `tf.global_variables_initializer()` has already been called.\n",
    "\n",
    "Note: Nothing needs to be returned. This function is only optimizing the neural network."
   ]
  },
  {
   "cell_type": "code",
   "execution_count": 38,
   "metadata": {},
   "outputs": [
    {
     "name": "stdout",
     "output_type": "stream",
     "text": [
      "Tests Passed\n"
     ]
    }
   ],
   "source": [
    "def train_neural_network(session, optimizer, keep_probability, feature_batch, label_batch):\n",
    "    \"\"\"\n",
    "    Optimize the session on a batch of images and labels\n",
    "    : session: Current TensorFlow session\n",
    "    : optimizer: TensorFlow optimizer function\n",
    "    : keep_probability: keep probability\n",
    "    : feature_batch: Batch of Numpy image data\n",
    "    : label_batch: Batch of Numpy label data\n",
    "    \"\"\"\n",
    "    # TODO: Implement Function\n",
    "    session.run(optimizer, feed_dict={x: feature_batch, y: label_batch, keep_prob: keep_probability})\n",
    "\n",
    "\n",
    "\"\"\"\n",
    "DON'T MODIFY ANYTHING IN THIS CELL THAT IS BELOW THIS LINE\n",
    "\"\"\"\n",
    "tests.test_train_nn(train_neural_network)"
   ]
  },
  {
   "cell_type": "markdown",
   "metadata": {},
   "source": [
    "### Show Stats\n",
    "Implement the function `print_stats` to print loss and validation accuracy.  Use the global variables `valid_features` and `valid_labels` to calculate validation accuracy.  Use a keep probability of `1.0` to calculate the loss and validation accuracy."
   ]
  },
  {
   "cell_type": "code",
   "execution_count": 27,
   "metadata": {
    "collapsed": true
   },
   "outputs": [],
   "source": [
    "def print_stats(session, feature_batch, label_batch, cost, accuracy):\n",
    "    \"\"\"\n",
    "    Print information about loss and validation accuracy\n",
    "    : session: Current TensorFlow session\n",
    "    : feature_batch: Batch of Numpy image data\n",
    "    : label_batch: Batch of Numpy label data\n",
    "    : cost: TensorFlow cost function\n",
    "    : accuracy: TensorFlow accuracy function\n",
    "    \"\"\"\n",
    "    print('Loss is {0:.4f} Accuracy is {1:.4f}'.format(session.run(cost, feed_dict={x: feature_batch, y: label_batch, keep_prob: 1.0}),\n",
    "                                              session.run(accuracy, feed_dict={x: valid_features, y: valid_labels, keep_prob: 1.0})))"
   ]
  },
  {
   "cell_type": "markdown",
   "metadata": {},
   "source": [
    "### Hyperparameters\n",
    "Tune the following parameters:\n",
    "* Set `epochs` to the number of iterations until the network stops learning or start overfitting\n",
    "* Set `batch_size` to the highest number that your machine has memory for.  Most people set them to common sizes of memory:\n",
    " * 64\n",
    " * 128\n",
    " * 256\n",
    " * ...\n",
    "* Set `keep_probability` to the probability of keeping a node using dropout"
   ]
  },
  {
   "cell_type": "code",
   "execution_count": 46,
   "metadata": {
    "collapsed": true
   },
   "outputs": [],
   "source": [
    "# TODO: Tune Parameters\n",
    "epochs = 50\n",
    "batch_size = 128\n",
    "keep_probability = 0.5"
   ]
  },
  {
   "cell_type": "markdown",
   "metadata": {},
   "source": [
    "### Train on a Single CIFAR-10 Batch\n",
    "Instead of training the neural network on all the CIFAR-10 batches of data, let's use a single batch. This should save time while you iterate on the model to get a better accuracy.  Once the final validation accuracy is 50% or greater, run the model on all the data in the next section."
   ]
  },
  {
   "cell_type": "code",
   "execution_count": 55,
   "metadata": {
    "scrolled": true
   },
   "outputs": [
    {
     "name": "stdout",
     "output_type": "stream",
     "text": [
      "Checking the Training on a Single Batch...\n",
      "Epoch  1, CIFAR-10 Batch 1:  Loss is 2.2042 Accuracy is 0.1778\n",
      "Epoch  2, CIFAR-10 Batch 1:  Loss is 1.9926 Accuracy is 0.2878\n",
      "Epoch  3, CIFAR-10 Batch 1:  Loss is 1.7499 Accuracy is 0.3478\n",
      "Epoch  4, CIFAR-10 Batch 1:  Loss is 1.5924 Accuracy is 0.3756\n",
      "Epoch  5, CIFAR-10 Batch 1:  Loss is 1.3364 Accuracy is 0.3816\n",
      "Epoch  6, CIFAR-10 Batch 1:  Loss is 1.2386 Accuracy is 0.3818\n",
      "Epoch  7, CIFAR-10 Batch 1:  Loss is 1.0627 Accuracy is 0.4294\n",
      "Epoch  8, CIFAR-10 Batch 1:  Loss is 0.9341 Accuracy is 0.4776\n",
      "Epoch  9, CIFAR-10 Batch 1:  Loss is 0.8986 Accuracy is 0.4876\n",
      "Epoch 10, CIFAR-10 Batch 1:  Loss is 0.8288 Accuracy is 0.4936\n",
      "Epoch 11, CIFAR-10 Batch 1:  Loss is 0.8026 Accuracy is 0.5020\n",
      "Epoch 12, CIFAR-10 Batch 1:  Loss is 0.8035 Accuracy is 0.5038\n",
      "Epoch 13, CIFAR-10 Batch 1:  Loss is 0.6661 Accuracy is 0.4800\n",
      "Epoch 14, CIFAR-10 Batch 1:  Loss is 0.6602 Accuracy is 0.4782\n",
      "Epoch 15, CIFAR-10 Batch 1:  Loss is 0.6645 Accuracy is 0.5020\n",
      "Epoch 16, CIFAR-10 Batch 1:  Loss is 0.6434 Accuracy is 0.5004\n",
      "Epoch 17, CIFAR-10 Batch 1:  Loss is 0.6051 Accuracy is 0.4940\n",
      "Epoch 18, CIFAR-10 Batch 1:  Loss is 0.5679 Accuracy is 0.4958\n",
      "Epoch 19, CIFAR-10 Batch 1:  Loss is 0.5247 Accuracy is 0.4988\n",
      "Epoch 20, CIFAR-10 Batch 1:  Loss is 0.4706 Accuracy is 0.5124\n",
      "Epoch 21, CIFAR-10 Batch 1:  Loss is 0.4214 Accuracy is 0.5108\n",
      "Epoch 22, CIFAR-10 Batch 1:  Loss is 0.3934 Accuracy is 0.5042\n",
      "Epoch 23, CIFAR-10 Batch 1:  Loss is 0.3683 Accuracy is 0.5024\n",
      "Epoch 24, CIFAR-10 Batch 1:  Loss is 0.3692 Accuracy is 0.4826\n",
      "Epoch 25, CIFAR-10 Batch 1:  Loss is 0.3567 Accuracy is 0.4814\n",
      "Epoch 26, CIFAR-10 Batch 1:  Loss is 0.3763 Accuracy is 0.4584\n",
      "Epoch 27, CIFAR-10 Batch 1:  Loss is 0.2922 Accuracy is 0.4974\n",
      "Epoch 28, CIFAR-10 Batch 1:  Loss is 0.2680 Accuracy is 0.5188\n",
      "Epoch 29, CIFAR-10 Batch 1:  Loss is 0.2597 Accuracy is 0.5168\n",
      "Epoch 30, CIFAR-10 Batch 1:  Loss is 0.2476 Accuracy is 0.5152\n",
      "Epoch 31, CIFAR-10 Batch 1:  Loss is 0.2193 Accuracy is 0.5188\n",
      "Epoch 32, CIFAR-10 Batch 1:  Loss is 0.2058 Accuracy is 0.5188\n",
      "Epoch 33, CIFAR-10 Batch 1:  Loss is 0.1947 Accuracy is 0.5186\n",
      "Epoch 34, CIFAR-10 Batch 1:  Loss is 0.1913 Accuracy is 0.5214\n",
      "Epoch 35, CIFAR-10 Batch 1:  Loss is 0.1919 Accuracy is 0.5188\n",
      "Epoch 36, CIFAR-10 Batch 1:  Loss is 0.1898 Accuracy is 0.5176\n",
      "Epoch 37, CIFAR-10 Batch 1:  Loss is 0.1761 Accuracy is 0.5182\n",
      "Epoch 38, CIFAR-10 Batch 1:  Loss is 0.1684 Accuracy is 0.5124\n",
      "Epoch 39, CIFAR-10 Batch 1:  Loss is 0.1549 Accuracy is 0.5054\n",
      "Epoch 40, CIFAR-10 Batch 1:  Loss is 0.1372 Accuracy is 0.5114\n",
      "Epoch 41, CIFAR-10 Batch 1:  Loss is 0.1346 Accuracy is 0.5092\n",
      "Epoch 42, CIFAR-10 Batch 1:  Loss is 0.1168 Accuracy is 0.5034\n",
      "Epoch 43, CIFAR-10 Batch 1:  Loss is 0.0993 Accuracy is 0.5066\n",
      "Epoch 44, CIFAR-10 Batch 1:  Loss is 0.0903 Accuracy is 0.5100\n",
      "Epoch 45, CIFAR-10 Batch 1:  Loss is 0.0880 Accuracy is 0.5122\n",
      "Epoch 46, CIFAR-10 Batch 1:  Loss is 0.0965 Accuracy is 0.5014\n",
      "Epoch 47, CIFAR-10 Batch 1:  Loss is 0.1184 Accuracy is 0.4898\n",
      "Epoch 48, CIFAR-10 Batch 1:  Loss is 0.1070 Accuracy is 0.4854\n",
      "Epoch 49, CIFAR-10 Batch 1:  Loss is 0.1017 Accuracy is 0.4862\n",
      "Epoch 50, CIFAR-10 Batch 1:  Loss is 0.0933 Accuracy is 0.4828\n"
     ]
    }
   ],
   "source": [
    "\"\"\"\n",
    "DON'T MODIFY ANYTHING IN THIS CELL\n",
    "\"\"\"\n",
    "print('Checking the Training on a Single Batch...')\n",
    "with tf.Session() as sess:\n",
    "    # Initializing the variables\n",
    "    sess.run(tf.global_variables_initializer())\n",
    "    \n",
    "    # Training cycle\n",
    "    for epoch in range(epochs):\n",
    "        batch_i = 1\n",
    "        for batch_features, batch_labels in helper.load_preprocess_training_batch(batch_i, batch_size):\n",
    "            train_neural_network(sess, optimizer, keep_probability, batch_features, batch_labels)\n",
    "        print('Epoch {:>2}, CIFAR-10 Batch {}:  '.format(epoch + 1, batch_i), end='')\n",
    "        print_stats(sess, batch_features, batch_labels, cost, accuracy)"
   ]
  },
  {
   "cell_type": "markdown",
   "metadata": {},
   "source": [
    "### Fully Train the Model\n",
    "Now that you got a good accuracy with a single CIFAR-10 batch, try it with all five batches."
   ]
  },
  {
   "cell_type": "code",
   "execution_count": 56,
   "metadata": {
    "scrolled": true
   },
   "outputs": [
    {
     "name": "stdout",
     "output_type": "stream",
     "text": [
      "Training...\n",
      "Epoch  1, CIFAR-10 Batch 1:  Loss is 2.1606 Accuracy is 0.2560\n",
      "Epoch  1, CIFAR-10 Batch 2:  Loss is 1.9331 Accuracy is 0.3040\n",
      "Epoch  1, CIFAR-10 Batch 3:  Loss is 1.6578 Accuracy is 0.3604\n",
      "Epoch  1, CIFAR-10 Batch 4:  Loss is 1.5080 Accuracy is 0.3926\n",
      "Epoch  1, CIFAR-10 Batch 5:  Loss is 1.6164 Accuracy is 0.4160\n",
      "Epoch  2, CIFAR-10 Batch 1:  Loss is 1.7661 Accuracy is 0.4484\n",
      "Epoch  2, CIFAR-10 Batch 2:  Loss is 1.4617 Accuracy is 0.4056\n",
      "Epoch  2, CIFAR-10 Batch 3:  Loss is 1.2367 Accuracy is 0.4688\n",
      "Epoch  2, CIFAR-10 Batch 4:  Loss is 1.3551 Accuracy is 0.4404\n",
      "Epoch  2, CIFAR-10 Batch 5:  Loss is 1.4305 Accuracy is 0.4528\n",
      "Epoch  3, CIFAR-10 Batch 1:  Loss is 1.5070 Accuracy is 0.5120\n",
      "Epoch  3, CIFAR-10 Batch 2:  Loss is 1.0965 Accuracy is 0.4848\n",
      "Epoch  3, CIFAR-10 Batch 3:  Loss is 1.0028 Accuracy is 0.5148\n",
      "Epoch  3, CIFAR-10 Batch 4:  Loss is 1.2726 Accuracy is 0.4942\n",
      "Epoch  3, CIFAR-10 Batch 5:  Loss is 1.1718 Accuracy is 0.5122\n",
      "Epoch  4, CIFAR-10 Batch 1:  Loss is 1.4499 Accuracy is 0.5114\n",
      "Epoch  4, CIFAR-10 Batch 2:  Loss is 1.0418 Accuracy is 0.5254\n",
      "Epoch  4, CIFAR-10 Batch 3:  Loss is 0.8576 Accuracy is 0.5350\n",
      "Epoch  4, CIFAR-10 Batch 4:  Loss is 1.1682 Accuracy is 0.5304\n",
      "Epoch  4, CIFAR-10 Batch 5:  Loss is 1.0217 Accuracy is 0.5560\n",
      "Epoch  5, CIFAR-10 Batch 1:  Loss is 1.2521 Accuracy is 0.5486\n",
      "Epoch  5, CIFAR-10 Batch 2:  Loss is 0.8753 Accuracy is 0.5666\n",
      "Epoch  5, CIFAR-10 Batch 3:  Loss is 0.7400 Accuracy is 0.5236\n",
      "Epoch  5, CIFAR-10 Batch 4:  Loss is 0.9866 Accuracy is 0.5654\n",
      "Epoch  5, CIFAR-10 Batch 5:  Loss is 0.9757 Accuracy is 0.5712\n",
      "Epoch  6, CIFAR-10 Batch 1:  Loss is 1.1757 Accuracy is 0.5488\n",
      "Epoch  6, CIFAR-10 Batch 2:  Loss is 0.7979 Accuracy is 0.5660\n",
      "Epoch  6, CIFAR-10 Batch 3:  Loss is 0.6523 Accuracy is 0.5652\n",
      "Epoch  6, CIFAR-10 Batch 4:  Loss is 0.8898 Accuracy is 0.5706\n",
      "Epoch  6, CIFAR-10 Batch 5:  Loss is 0.9071 Accuracy is 0.5828\n",
      "Epoch  7, CIFAR-10 Batch 1:  Loss is 1.0403 Accuracy is 0.5798\n",
      "Epoch  7, CIFAR-10 Batch 2:  Loss is 0.7155 Accuracy is 0.5690\n",
      "Epoch  7, CIFAR-10 Batch 3:  Loss is 0.6123 Accuracy is 0.5902\n",
      "Epoch  7, CIFAR-10 Batch 4:  Loss is 0.7973 Accuracy is 0.5828\n",
      "Epoch  7, CIFAR-10 Batch 5:  Loss is 0.8221 Accuracy is 0.5958\n",
      "Epoch  8, CIFAR-10 Batch 1:  Loss is 0.9422 Accuracy is 0.5994\n",
      "Epoch  8, CIFAR-10 Batch 2:  Loss is 0.6054 Accuracy is 0.5880\n",
      "Epoch  8, CIFAR-10 Batch 3:  Loss is 0.5723 Accuracy is 0.5938\n",
      "Epoch  8, CIFAR-10 Batch 4:  Loss is 0.7284 Accuracy is 0.5978\n",
      "Epoch  8, CIFAR-10 Batch 5:  Loss is 0.7260 Accuracy is 0.6100\n",
      "Epoch  9, CIFAR-10 Batch 1:  Loss is 0.9351 Accuracy is 0.6014\n",
      "Epoch  9, CIFAR-10 Batch 2:  Loss is 0.5598 Accuracy is 0.5900\n",
      "Epoch  9, CIFAR-10 Batch 3:  Loss is 0.5567 Accuracy is 0.5930\n",
      "Epoch  9, CIFAR-10 Batch 4:  Loss is 0.6722 Accuracy is 0.6066\n",
      "Epoch  9, CIFAR-10 Batch 5:  Loss is 0.6759 Accuracy is 0.6118\n",
      "Epoch 10, CIFAR-10 Batch 1:  Loss is 0.8406 Accuracy is 0.6020\n",
      "Epoch 10, CIFAR-10 Batch 2:  Loss is 0.5284 Accuracy is 0.5906\n",
      "Epoch 10, CIFAR-10 Batch 3:  Loss is 0.5425 Accuracy is 0.6032\n",
      "Epoch 10, CIFAR-10 Batch 4:  Loss is 0.6018 Accuracy is 0.6106\n",
      "Epoch 10, CIFAR-10 Batch 5:  Loss is 0.6308 Accuracy is 0.6104\n",
      "Epoch 11, CIFAR-10 Batch 1:  Loss is 0.7787 Accuracy is 0.6000\n",
      "Epoch 11, CIFAR-10 Batch 2:  Loss is 0.4785 Accuracy is 0.5960\n",
      "Epoch 11, CIFAR-10 Batch 3:  Loss is 0.5263 Accuracy is 0.6058\n",
      "Epoch 11, CIFAR-10 Batch 4:  Loss is 0.5554 Accuracy is 0.6074\n",
      "Epoch 11, CIFAR-10 Batch 5:  Loss is 0.5847 Accuracy is 0.5978\n",
      "Epoch 12, CIFAR-10 Batch 1:  Loss is 0.7229 Accuracy is 0.5962\n",
      "Epoch 12, CIFAR-10 Batch 2:  Loss is 0.4368 Accuracy is 0.6050\n",
      "Epoch 12, CIFAR-10 Batch 3:  Loss is 0.4833 Accuracy is 0.6106\n",
      "Epoch 12, CIFAR-10 Batch 4:  Loss is 0.5090 Accuracy is 0.6090\n",
      "Epoch 12, CIFAR-10 Batch 5:  Loss is 0.5353 Accuracy is 0.5952\n",
      "Epoch 13, CIFAR-10 Batch 1:  Loss is 0.6793 Accuracy is 0.5984\n",
      "Epoch 13, CIFAR-10 Batch 2:  Loss is 0.4055 Accuracy is 0.6034\n",
      "Epoch 13, CIFAR-10 Batch 3:  Loss is 0.4442 Accuracy is 0.6122\n",
      "Epoch 13, CIFAR-10 Batch 4:  Loss is 0.4647 Accuracy is 0.6172\n",
      "Epoch 13, CIFAR-10 Batch 5:  Loss is 0.4778 Accuracy is 0.5968\n",
      "Epoch 14, CIFAR-10 Batch 1:  Loss is 0.6361 Accuracy is 0.6030\n",
      "Epoch 14, CIFAR-10 Batch 2:  Loss is 0.3642 Accuracy is 0.6036\n",
      "Epoch 14, CIFAR-10 Batch 3:  Loss is 0.4019 Accuracy is 0.6204\n",
      "Epoch 14, CIFAR-10 Batch 4:  Loss is 0.4243 Accuracy is 0.6210\n",
      "Epoch 14, CIFAR-10 Batch 5:  Loss is 0.4284 Accuracy is 0.6076\n",
      "Epoch 15, CIFAR-10 Batch 1:  Loss is 0.5884 Accuracy is 0.6072\n",
      "Epoch 15, CIFAR-10 Batch 2:  Loss is 0.3180 Accuracy is 0.6094\n",
      "Epoch 15, CIFAR-10 Batch 3:  Loss is 0.3606 Accuracy is 0.6246\n",
      "Epoch 15, CIFAR-10 Batch 4:  Loss is 0.3900 Accuracy is 0.6222\n",
      "Epoch 15, CIFAR-10 Batch 5:  Loss is 0.3888 Accuracy is 0.6102\n",
      "Epoch 16, CIFAR-10 Batch 1:  Loss is 0.5384 Accuracy is 0.6088\n",
      "Epoch 16, CIFAR-10 Batch 2:  Loss is 0.2877 Accuracy is 0.6088\n",
      "Epoch 16, CIFAR-10 Batch 3:  Loss is 0.3295 Accuracy is 0.6244\n",
      "Epoch 16, CIFAR-10 Batch 4:  Loss is 0.3651 Accuracy is 0.6218\n",
      "Epoch 16, CIFAR-10 Batch 5:  Loss is 0.3571 Accuracy is 0.6106\n",
      "Epoch 17, CIFAR-10 Batch 1:  Loss is 0.4964 Accuracy is 0.6108\n",
      "Epoch 17, CIFAR-10 Batch 2:  Loss is 0.2635 Accuracy is 0.6112\n",
      "Epoch 17, CIFAR-10 Batch 3:  Loss is 0.3010 Accuracy is 0.6218\n",
      "Epoch 17, CIFAR-10 Batch 4:  Loss is 0.3354 Accuracy is 0.6244\n",
      "Epoch 17, CIFAR-10 Batch 5:  Loss is 0.3295 Accuracy is 0.6056\n",
      "Epoch 18, CIFAR-10 Batch 1:  Loss is 0.4572 Accuracy is 0.6112\n",
      "Epoch 18, CIFAR-10 Batch 2:  Loss is 0.2481 Accuracy is 0.6068\n",
      "Epoch 18, CIFAR-10 Batch 3:  Loss is 0.2768 Accuracy is 0.6210\n",
      "Epoch 18, CIFAR-10 Batch 4:  Loss is 0.3102 Accuracy is 0.6246\n",
      "Epoch 18, CIFAR-10 Batch 5:  Loss is 0.3045 Accuracy is 0.6006\n",
      "Epoch 19, CIFAR-10 Batch 1:  Loss is 0.4295 Accuracy is 0.6110\n",
      "Epoch 19, CIFAR-10 Batch 2:  Loss is 0.2273 Accuracy is 0.6060\n",
      "Epoch 19, CIFAR-10 Batch 3:  Loss is 0.2554 Accuracy is 0.6212\n",
      "Epoch 19, CIFAR-10 Batch 4:  Loss is 0.2887 Accuracy is 0.6228\n",
      "Epoch 19, CIFAR-10 Batch 5:  Loss is 0.2832 Accuracy is 0.5996\n",
      "Epoch 20, CIFAR-10 Batch 1:  Loss is 0.4009 Accuracy is 0.6076\n",
      "Epoch 20, CIFAR-10 Batch 2:  Loss is 0.2143 Accuracy is 0.6040\n",
      "Epoch 20, CIFAR-10 Batch 3:  Loss is 0.2363 Accuracy is 0.6148\n",
      "Epoch 20, CIFAR-10 Batch 4:  Loss is 0.2905 Accuracy is 0.6098\n",
      "Epoch 20, CIFAR-10 Batch 5:  Loss is 0.2568 Accuracy is 0.5970\n",
      "Epoch 21, CIFAR-10 Batch 1:  Loss is 0.3810 Accuracy is 0.6116\n",
      "Epoch 21, CIFAR-10 Batch 2:  Loss is 0.1997 Accuracy is 0.6142\n",
      "Epoch 21, CIFAR-10 Batch 3:  Loss is 0.2130 Accuracy is 0.6088\n",
      "Epoch 21, CIFAR-10 Batch 4:  Loss is 0.2947 Accuracy is 0.6062\n",
      "Epoch 21, CIFAR-10 Batch 5:  Loss is 0.2328 Accuracy is 0.6030\n",
      "Epoch 22, CIFAR-10 Batch 1:  Loss is 0.3538 Accuracy is 0.6152\n",
      "Epoch 22, CIFAR-10 Batch 2:  Loss is 0.1718 Accuracy is 0.6302\n",
      "Epoch 22, CIFAR-10 Batch 3:  Loss is 0.2238 Accuracy is 0.6046\n",
      "Epoch 22, CIFAR-10 Batch 4:  Loss is 0.3131 Accuracy is 0.6180\n",
      "Epoch 22, CIFAR-10 Batch 5:  Loss is 0.2307 Accuracy is 0.6112\n",
      "Epoch 23, CIFAR-10 Batch 1:  Loss is 0.3158 Accuracy is 0.6164\n",
      "Epoch 23, CIFAR-10 Batch 2:  Loss is 0.1642 Accuracy is 0.6214\n",
      "Epoch 23, CIFAR-10 Batch 3:  Loss is 0.2606 Accuracy is 0.5912\n",
      "Epoch 23, CIFAR-10 Batch 4:  Loss is 0.2855 Accuracy is 0.6124\n",
      "Epoch 23, CIFAR-10 Batch 5:  Loss is 0.2417 Accuracy is 0.5912\n",
      "Epoch 24, CIFAR-10 Batch 1:  Loss is 0.3448 Accuracy is 0.6186\n",
      "Epoch 24, CIFAR-10 Batch 2:  Loss is 0.1973 Accuracy is 0.5996\n",
      "Epoch 24, CIFAR-10 Batch 3:  Loss is 0.2350 Accuracy is 0.5942\n",
      "Epoch 24, CIFAR-10 Batch 4:  Loss is 0.2409 Accuracy is 0.6184\n",
      "Epoch 24, CIFAR-10 Batch 5:  Loss is 0.2175 Accuracy is 0.5938\n",
      "Epoch 25, CIFAR-10 Batch 1:  Loss is 0.3313 Accuracy is 0.6124\n",
      "Epoch 25, CIFAR-10 Batch 2:  Loss is 0.1925 Accuracy is 0.5908\n",
      "Epoch 25, CIFAR-10 Batch 3:  Loss is 0.2057 Accuracy is 0.6046\n",
      "Epoch 25, CIFAR-10 Batch 4:  Loss is 0.2147 Accuracy is 0.6186\n",
      "Epoch 25, CIFAR-10 Batch 5:  Loss is 0.1898 Accuracy is 0.6040\n",
      "Epoch 26, CIFAR-10 Batch 1:  Loss is 0.3003 Accuracy is 0.6212\n",
      "Epoch 26, CIFAR-10 Batch 2:  Loss is 0.1688 Accuracy is 0.5994\n",
      "Epoch 26, CIFAR-10 Batch 3:  Loss is 0.1779 Accuracy is 0.6062\n",
      "Epoch 26, CIFAR-10 Batch 4:  Loss is 0.1952 Accuracy is 0.6206\n",
      "Epoch 26, CIFAR-10 Batch 5:  Loss is 0.1711 Accuracy is 0.6110\n"
     ]
    },
    {
     "name": "stdout",
     "output_type": "stream",
     "text": [
      "Epoch 27, CIFAR-10 Batch 1:  Loss is 0.2850 Accuracy is 0.6190\n",
      "Epoch 27, CIFAR-10 Batch 2:  Loss is 0.1467 Accuracy is 0.6084\n",
      "Epoch 27, CIFAR-10 Batch 3:  Loss is 0.1629 Accuracy is 0.6050\n",
      "Epoch 27, CIFAR-10 Batch 4:  Loss is 0.1847 Accuracy is 0.6196\n",
      "Epoch 27, CIFAR-10 Batch 5:  Loss is 0.1547 Accuracy is 0.6108\n",
      "Epoch 28, CIFAR-10 Batch 1:  Loss is 0.2795 Accuracy is 0.6182\n",
      "Epoch 28, CIFAR-10 Batch 2:  Loss is 0.1380 Accuracy is 0.6140\n",
      "Epoch 28, CIFAR-10 Batch 3:  Loss is 0.1659 Accuracy is 0.5934\n",
      "Epoch 28, CIFAR-10 Batch 4:  Loss is 0.1689 Accuracy is 0.6216\n",
      "Epoch 28, CIFAR-10 Batch 5:  Loss is 0.1451 Accuracy is 0.6080\n",
      "Epoch 29, CIFAR-10 Batch 1:  Loss is 0.2614 Accuracy is 0.6090\n",
      "Epoch 29, CIFAR-10 Batch 2:  Loss is 0.1526 Accuracy is 0.6052\n",
      "Epoch 29, CIFAR-10 Batch 3:  Loss is 0.1640 Accuracy is 0.5862\n",
      "Epoch 29, CIFAR-10 Batch 4:  Loss is 0.1556 Accuracy is 0.6268\n",
      "Epoch 29, CIFAR-10 Batch 5:  Loss is 0.1471 Accuracy is 0.6036\n",
      "Epoch 30, CIFAR-10 Batch 1:  Loss is 0.2268 Accuracy is 0.6060\n",
      "Epoch 30, CIFAR-10 Batch 2:  Loss is 0.1641 Accuracy is 0.5960\n",
      "Epoch 30, CIFAR-10 Batch 3:  Loss is 0.1581 Accuracy is 0.5926\n",
      "Epoch 30, CIFAR-10 Batch 4:  Loss is 0.1415 Accuracy is 0.6222\n",
      "Epoch 30, CIFAR-10 Batch 5:  Loss is 0.1383 Accuracy is 0.6010\n",
      "Epoch 31, CIFAR-10 Batch 1:  Loss is 0.1964 Accuracy is 0.6262\n",
      "Epoch 31, CIFAR-10 Batch 2:  Loss is 0.1208 Accuracy is 0.6068\n",
      "Epoch 31, CIFAR-10 Batch 3:  Loss is 0.1409 Accuracy is 0.6004\n",
      "Epoch 31, CIFAR-10 Batch 4:  Loss is 0.1609 Accuracy is 0.6000\n",
      "Epoch 31, CIFAR-10 Batch 5:  Loss is 0.1349 Accuracy is 0.6018\n",
      "Epoch 32, CIFAR-10 Batch 1:  Loss is 0.1816 Accuracy is 0.6194\n",
      "Epoch 32, CIFAR-10 Batch 2:  Loss is 0.1097 Accuracy is 0.6022\n",
      "Epoch 32, CIFAR-10 Batch 3:  Loss is 0.1366 Accuracy is 0.6036\n",
      "Epoch 32, CIFAR-10 Batch 4:  Loss is 0.1631 Accuracy is 0.5872\n",
      "Epoch 32, CIFAR-10 Batch 5:  Loss is 0.1282 Accuracy is 0.6034\n",
      "Epoch 33, CIFAR-10 Batch 1:  Loss is 0.1533 Accuracy is 0.6118\n",
      "Epoch 33, CIFAR-10 Batch 2:  Loss is 0.1140 Accuracy is 0.5900\n",
      "Epoch 33, CIFAR-10 Batch 3:  Loss is 0.1350 Accuracy is 0.6024\n",
      "Epoch 33, CIFAR-10 Batch 4:  Loss is 0.1629 Accuracy is 0.5886\n",
      "Epoch 33, CIFAR-10 Batch 5:  Loss is 0.1277 Accuracy is 0.5964\n",
      "Epoch 34, CIFAR-10 Batch 1:  Loss is 0.1299 Accuracy is 0.6106\n",
      "Epoch 34, CIFAR-10 Batch 2:  Loss is 0.1099 Accuracy is 0.5850\n",
      "Epoch 34, CIFAR-10 Batch 3:  Loss is 0.1166 Accuracy is 0.6084\n",
      "Epoch 34, CIFAR-10 Batch 4:  Loss is 0.1643 Accuracy is 0.5980\n",
      "Epoch 34, CIFAR-10 Batch 5:  Loss is 0.1392 Accuracy is 0.5876\n",
      "Epoch 35, CIFAR-10 Batch 1:  Loss is 0.1144 Accuracy is 0.6084\n",
      "Epoch 35, CIFAR-10 Batch 2:  Loss is 0.1102 Accuracy is 0.5838\n",
      "Epoch 35, CIFAR-10 Batch 3:  Loss is 0.1230 Accuracy is 0.5994\n",
      "Epoch 35, CIFAR-10 Batch 4:  Loss is 0.1393 Accuracy is 0.6068\n",
      "Epoch 35, CIFAR-10 Batch 5:  Loss is 0.1697 Accuracy is 0.5768\n",
      "Epoch 36, CIFAR-10 Batch 1:  Loss is 0.1141 Accuracy is 0.5984\n",
      "Epoch 36, CIFAR-10 Batch 2:  Loss is 0.1261 Accuracy is 0.5766\n",
      "Epoch 36, CIFAR-10 Batch 3:  Loss is 0.1595 Accuracy is 0.5902\n",
      "Epoch 36, CIFAR-10 Batch 4:  Loss is 0.1122 Accuracy is 0.6176\n",
      "Epoch 36, CIFAR-10 Batch 5:  Loss is 0.1429 Accuracy is 0.5850\n",
      "Epoch 37, CIFAR-10 Batch 1:  Loss is 0.1457 Accuracy is 0.5898\n",
      "Epoch 37, CIFAR-10 Batch 2:  Loss is 0.1735 Accuracy is 0.5818\n",
      "Epoch 37, CIFAR-10 Batch 3:  Loss is 0.1588 Accuracy is 0.6056\n",
      "Epoch 37, CIFAR-10 Batch 4:  Loss is 0.1548 Accuracy is 0.6066\n",
      "Epoch 37, CIFAR-10 Batch 5:  Loss is 0.1865 Accuracy is 0.5836\n",
      "Epoch 38, CIFAR-10 Batch 1:  Loss is 0.1470 Accuracy is 0.5980\n",
      "Epoch 38, CIFAR-10 Batch 2:  Loss is 0.1045 Accuracy is 0.5932\n",
      "Epoch 38, CIFAR-10 Batch 3:  Loss is 0.0988 Accuracy is 0.6142\n",
      "Epoch 38, CIFAR-10 Batch 4:  Loss is 0.1539 Accuracy is 0.6066\n",
      "Epoch 38, CIFAR-10 Batch 5:  Loss is 0.1234 Accuracy is 0.5924\n",
      "Epoch 39, CIFAR-10 Batch 1:  Loss is 0.1311 Accuracy is 0.6010\n",
      "Epoch 39, CIFAR-10 Batch 2:  Loss is 0.0783 Accuracy is 0.6016\n",
      "Epoch 39, CIFAR-10 Batch 3:  Loss is 0.0939 Accuracy is 0.6098\n",
      "Epoch 39, CIFAR-10 Batch 4:  Loss is 0.1400 Accuracy is 0.6048\n",
      "Epoch 39, CIFAR-10 Batch 5:  Loss is 0.0856 Accuracy is 0.6084\n",
      "Epoch 40, CIFAR-10 Batch 1:  Loss is 0.1204 Accuracy is 0.6000\n",
      "Epoch 40, CIFAR-10 Batch 2:  Loss is 0.0682 Accuracy is 0.6026\n",
      "Epoch 40, CIFAR-10 Batch 3:  Loss is 0.0864 Accuracy is 0.6094\n",
      "Epoch 40, CIFAR-10 Batch 4:  Loss is 0.1445 Accuracy is 0.6030\n",
      "Epoch 40, CIFAR-10 Batch 5:  Loss is 0.0751 Accuracy is 0.6126\n",
      "Epoch 41, CIFAR-10 Batch 1:  Loss is 0.1138 Accuracy is 0.6022\n",
      "Epoch 41, CIFAR-10 Batch 2:  Loss is 0.0661 Accuracy is 0.5986\n",
      "Epoch 41, CIFAR-10 Batch 3:  Loss is 0.0749 Accuracy is 0.6110\n",
      "Epoch 41, CIFAR-10 Batch 4:  Loss is 0.1255 Accuracy is 0.6054\n",
      "Epoch 41, CIFAR-10 Batch 5:  Loss is 0.0754 Accuracy is 0.6036\n",
      "Epoch 42, CIFAR-10 Batch 1:  Loss is 0.1110 Accuracy is 0.6006\n",
      "Epoch 42, CIFAR-10 Batch 2:  Loss is 0.0628 Accuracy is 0.5952\n",
      "Epoch 42, CIFAR-10 Batch 3:  Loss is 0.0727 Accuracy is 0.6076\n",
      "Epoch 42, CIFAR-10 Batch 4:  Loss is 0.1037 Accuracy is 0.6072\n",
      "Epoch 42, CIFAR-10 Batch 5:  Loss is 0.0795 Accuracy is 0.5952\n",
      "Epoch 43, CIFAR-10 Batch 1:  Loss is 0.1016 Accuracy is 0.5964\n",
      "Epoch 43, CIFAR-10 Batch 2:  Loss is 0.0624 Accuracy is 0.5918\n",
      "Epoch 43, CIFAR-10 Batch 3:  Loss is 0.0711 Accuracy is 0.6070\n",
      "Epoch 43, CIFAR-10 Batch 4:  Loss is 0.0936 Accuracy is 0.6130\n",
      "Epoch 43, CIFAR-10 Batch 5:  Loss is 0.0859 Accuracy is 0.5842\n",
      "Epoch 44, CIFAR-10 Batch 1:  Loss is 0.1026 Accuracy is 0.5878\n",
      "Epoch 44, CIFAR-10 Batch 2:  Loss is 0.0656 Accuracy is 0.5904\n",
      "Epoch 44, CIFAR-10 Batch 3:  Loss is 0.0752 Accuracy is 0.6074\n",
      "Epoch 44, CIFAR-10 Batch 4:  Loss is 0.0808 Accuracy is 0.6068\n",
      "Epoch 44, CIFAR-10 Batch 5:  Loss is 0.0711 Accuracy is 0.5820\n",
      "Epoch 45, CIFAR-10 Batch 1:  Loss is 0.1229 Accuracy is 0.5826\n",
      "Epoch 45, CIFAR-10 Batch 2:  Loss is 0.0805 Accuracy is 0.5862\n",
      "Epoch 45, CIFAR-10 Batch 3:  Loss is 0.1262 Accuracy is 0.5892\n",
      "Epoch 45, CIFAR-10 Batch 4:  Loss is 0.0835 Accuracy is 0.6122\n",
      "Epoch 45, CIFAR-10 Batch 5:  Loss is 0.0864 Accuracy is 0.5974\n",
      "Epoch 46, CIFAR-10 Batch 1:  Loss is 0.1886 Accuracy is 0.5978\n",
      "Epoch 46, CIFAR-10 Batch 2:  Loss is 0.1123 Accuracy is 0.5844\n",
      "Epoch 46, CIFAR-10 Batch 3:  Loss is 0.0813 Accuracy is 0.5906\n",
      "Epoch 46, CIFAR-10 Batch 4:  Loss is 0.1081 Accuracy is 0.5910\n",
      "Epoch 46, CIFAR-10 Batch 5:  Loss is 0.0791 Accuracy is 0.6066\n",
      "Epoch 47, CIFAR-10 Batch 1:  Loss is 0.1688 Accuracy is 0.6030\n",
      "Epoch 47, CIFAR-10 Batch 2:  Loss is 0.0787 Accuracy is 0.5886\n",
      "Epoch 47, CIFAR-10 Batch 3:  Loss is 0.1024 Accuracy is 0.5784\n",
      "Epoch 47, CIFAR-10 Batch 4:  Loss is 0.0954 Accuracy is 0.5782\n",
      "Epoch 47, CIFAR-10 Batch 5:  Loss is 0.0956 Accuracy is 0.6026\n",
      "Epoch 48, CIFAR-10 Batch 1:  Loss is 0.1149 Accuracy is 0.6096\n",
      "Epoch 48, CIFAR-10 Batch 2:  Loss is 0.0628 Accuracy is 0.5882\n",
      "Epoch 48, CIFAR-10 Batch 3:  Loss is 0.0622 Accuracy is 0.5796\n",
      "Epoch 48, CIFAR-10 Batch 4:  Loss is 0.0838 Accuracy is 0.5710\n",
      "Epoch 48, CIFAR-10 Batch 5:  Loss is 0.1044 Accuracy is 0.5882\n",
      "Epoch 49, CIFAR-10 Batch 1:  Loss is 0.0827 Accuracy is 0.6136\n",
      "Epoch 49, CIFAR-10 Batch 2:  Loss is 0.0539 Accuracy is 0.5932\n",
      "Epoch 49, CIFAR-10 Batch 3:  Loss is 0.0584 Accuracy is 0.5802\n",
      "Epoch 49, CIFAR-10 Batch 4:  Loss is 0.0802 Accuracy is 0.5678\n",
      "Epoch 49, CIFAR-10 Batch 5:  Loss is 0.0818 Accuracy is 0.5854\n",
      "Epoch 50, CIFAR-10 Batch 1:  Loss is 0.0910 Accuracy is 0.6090\n",
      "Epoch 50, CIFAR-10 Batch 2:  Loss is 0.0667 Accuracy is 0.5914\n",
      "Epoch 50, CIFAR-10 Batch 3:  Loss is 0.0608 Accuracy is 0.5820\n",
      "Epoch 50, CIFAR-10 Batch 4:  Loss is 0.0690 Accuracy is 0.5800\n",
      "Epoch 50, CIFAR-10 Batch 5:  Loss is 0.0670 Accuracy is 0.5926\n"
     ]
    }
   ],
   "source": [
    "\"\"\"\n",
    "DON'T MODIFY ANYTHING IN THIS CELL\n",
    "\"\"\"\n",
    "save_model_path = './image_classification'\n",
    "\n",
    "print('Training...')\n",
    "with tf.Session() as sess:\n",
    "    # Initializing the variables\n",
    "    sess.run(tf.global_variables_initializer())\n",
    "    \n",
    "    # Training cycle\n",
    "    for epoch in range(epochs):\n",
    "        # Loop over all batches\n",
    "        n_batches = 5\n",
    "        for batch_i in range(1, n_batches + 1):\n",
    "            for batch_features, batch_labels in helper.load_preprocess_training_batch(batch_i, batch_size):\n",
    "                train_neural_network(sess, optimizer, keep_probability, batch_features, batch_labels)\n",
    "            print('Epoch {:>2}, CIFAR-10 Batch {}:  '.format(epoch + 1, batch_i), end='')\n",
    "            print_stats(sess, batch_features, batch_labels, cost, accuracy)\n",
    "            \n",
    "    # Save Model\n",
    "    saver = tf.train.Saver()\n",
    "    save_path = saver.save(sess, save_model_path)"
   ]
  },
  {
   "cell_type": "markdown",
   "metadata": {},
   "source": [
    "# Checkpoint\n",
    "The model has been saved to disk.\n",
    "## Test Model\n",
    "Test your model against the test dataset.  This will be your final accuracy. You should have an accuracy greater than 50%. If you don't, keep tweaking the model architecture and parameters."
   ]
  },
  {
   "cell_type": "code",
   "execution_count": 57,
   "metadata": {},
   "outputs": [
    {
     "name": "stdout",
     "output_type": "stream",
     "text": [
      "INFO:tensorflow:Restoring parameters from ./image_classification\n",
      "Testing Accuracy: 0.5931566455696202\n",
      "\n"
     ]
    },
    {
     "data": {
      "image/png": "[encoded data removed]",
      "text/plain": [
       "<matplotlib.figure.Figure at 0x7f6cb13d6588>"
      ]
     },
     "metadata": {
      "image/png": {
       "height": 319,
       "width": 355
      }
     },
     "output_type": "display_data"
    }
   ],
   "source": [
    "\"\"\"\n",
    "DON'T MODIFY ANYTHING IN THIS CELL\n",
    "\"\"\"\n",
    "%matplotlib inline\n",
    "%config InlineBackend.figure_format = 'retina'\n",
    "\n",
    "import tensorflow as tf\n",
    "import pickle\n",
    "import helper\n",
    "import random\n",
    "\n",
    "# Set batch size if not already set\n",
    "try:\n",
    "    if batch_size:\n",
    "        pass\n",
    "except NameError:\n",
    "    batch_size = 64\n",
    "\n",
    "save_model_path = './image_classification'\n",
    "n_samples = 4\n",
    "top_n_predictions = 3\n",
    "\n",
    "def test_model():\n",
    "    \"\"\"\n",
    "    Test the saved model against the test dataset\n",
    "    \"\"\"\n",
    "\n",
    "    test_features, test_labels = pickle.load(open('preprocess_training.p', mode='rb'))\n",
    "    loaded_graph = tf.Graph()\n",
    "\n",
    "    with tf.Session(graph=loaded_graph) as sess:\n",
    "        # Load model\n",
    "        loader = tf.train.import_meta_graph(save_model_path + '.meta')\n",
    "        loader.restore(sess, save_model_path)\n",
    "\n",
    "        # Get Tensors from loaded model\n",
    "        loaded_x = loaded_graph.get_tensor_by_name('x:0')\n",
    "        loaded_y = loaded_graph.get_tensor_by_name('y:0')\n",
    "        loaded_keep_prob = loaded_graph.get_tensor_by_name('keep_prob:0')\n",
    "        loaded_logits = loaded_graph.get_tensor_by_name('logits:0')\n",
    "        loaded_acc = loaded_graph.get_tensor_by_name('accuracy:0')\n",
    "        \n",
    "        # Get accuracy in batches for memory limitations\n",
    "        test_batch_acc_total = 0\n",
    "        test_batch_count = 0\n",
    "        \n",
    "        for train_feature_batch, train_label_batch in helper.batch_features_labels(test_features, test_labels, batch_size):\n",
    "            test_batch_acc_total += sess.run(\n",
    "                loaded_acc,\n",
    "                feed_dict={loaded_x: train_feature_batch, loaded_y: train_label_batch, loaded_keep_prob: 1.0})\n",
    "            test_batch_count += 1\n",
    "\n",
    "        print('Testing Accuracy: {}\\n'.format(test_batch_acc_total/test_batch_count))\n",
    "\n",
    "        # Print Random Samples\n",
    "        random_test_features, random_test_labels = tuple(zip(*random.sample(list(zip(test_features, test_labels)), n_samples)))\n",
    "        random_test_predictions = sess.run(\n",
    "            tf.nn.top_k(tf.nn.softmax(loaded_logits), top_n_predictions),\n",
    "            feed_dict={loaded_x: random_test_features, loaded_y: random_test_labels, loaded_keep_prob: 1.0})\n",
    "        helper.display_image_predictions(random_test_features, random_test_labels, random_test_predictions)\n",
    "\n",
    "\n",
    "test_model()"
   ]
  },
  {
   "cell_type": "markdown",
   "metadata": {},
   "source": [
    "## Why 50-70% Accuracy?\n",
    "You might be wondering why you can't get an accuracy any higher. First things first, 50% isn't bad for a simple CNN.  Pure guessing would get you 10% accuracy. However, you might notice people are getting scores [well above 70%](http://rodrigob.github.io/are_we_there_yet/build/classification_datasets_results.html#43494641522d3130).  That's because we haven't taught you all there is to know about neural networks. We still need to cover a few more techniques.\n",
    "## Submitting This Project\n",
    "When submitting this project, make sure to run all the cells before saving the notebook.  Save the notebook file as \"dlnd_image_classification.ipynb\" and save it as a HTML file under \"File\" -> \"Download as\".  Include the \"helper.py\" and \"problem_unittests.py\" files in your submission."
   ]
  }
 ],
 "metadata": {
  "kernelspec": {
   "display_name": "Python 3",
   "language": "python",
   "name": "python3"
  },
  "language_info": {
   "codemirror_mode": {
    "name": "ipython",
    "version": 3
   },
   "file_extension": ".py",
   "mimetype": "text/x-python",
   "name": "python",
   "nbconvert_exporter": "python",
   "pygments_lexer": "ipython3",
   "version": "3.5.3"
  }
 },
 "nbformat": 4,
 "nbformat_minor": 1
}
